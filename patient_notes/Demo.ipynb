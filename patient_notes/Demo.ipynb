{
 "cells": [
  {
   "cell_type": "markdown",
   "metadata": {
    "application/vnd.databricks.v1+cell": {
     "cellMetadata": {},
     "inputWidgets": {},
     "nuid": "3ac46ce9-6257-4f93-9893-4743a5e54923",
     "showTitle": false,
     "title": ""
    }
   },
   "source": [
    "# Ingest dummy data\n",
    "\n",
    "In this notebook, we will show how to create test data in Bronze layer of the data lake, and how to update it with new rows."
   ]
  },
  {
   "cell_type": "code",
   "execution_count": 0,
   "metadata": {
    "application/vnd.databricks.v1+cell": {
     "cellMetadata": {
      "byteLimit": 2048000,
      "rowLimit": 10000
     },
     "inputWidgets": {},
     "nuid": "1c34344c-9380-4434-8940-34aebffb22fb",
     "showTitle": false,
     "title": ""
    }
   },
   "outputs": [],
   "source": [
    "from delta import DeltaTable\n",
    "table_name = \"Notes\""
   ]
  },
  {
   "cell_type": "markdown",
   "metadata": {
    "application/vnd.databricks.v1+cell": {
     "cellMetadata": {
      "byteLimit": 2048000,
      "rowLimit": 10000
     },
     "inputWidgets": {},
     "nuid": "f71a4f1a-08c8-4562-aad4-49b9c7cb98e2",
     "showTitle": false,
     "title": ""
    }
   },
   "source": [
    "## Creation of the initial table"
   ]
  },
  {
   "cell_type": "markdown",
   "metadata": {
    "application/vnd.databricks.v1+cell": {
     "cellMetadata": {},
     "inputWidgets": {},
     "nuid": "d82f8a0f-94e1-4f4c-9051-88a7a9dd9ab8",
     "showTitle": false,
     "title": ""
    }
   },
   "source": [
    "First, create a table and insert 10 rows into it. \n",
    "\n",
    "In this example, there are 4 columns in the table: NoteID, NoteText, UserID, AppointmentDate.\n",
    "- NoteID is a primary key in this column and a column that will be used to determine change in the table.\n",
    "- NoteText stores patient notes (in this example they are of course synthetic). Notes can be large. In the pipeline, the text in the notes will be pseudonymised, and additional features of interest will be extracted.\n",
    "- UserID is an identifier of a patient that will need to be pseudonymised in the pipeline.\n",
    "- AppointmentDate is information about patients appointment and will also need to be pseudonymised to avoid being able to link the data back to the patient."
   ]
  },
  {
   "cell_type": "code",
   "execution_count": 0,
   "metadata": {
    "application/vnd.databricks.v1+cell": {
     "cellMetadata": {
      "byteLimit": 2048000,
      "rowLimit": 10000
     },
     "inputWidgets": {},
     "nuid": "610cf156-23fa-4506-8da1-9753f047b15e",
     "showTitle": false,
     "title": ""
    }
   },
   "outputs": [],
   "source": [
    "df = spark.createDataFrame(\n",
    "    [\n",
    "        (\n",
    "            1,\n",
    "            (\n",
    "                \"Jonathan appeared agitated during today's session, reporting heightened\"\n",
    "                \" irritability and difficulty focusing at work. He shared concerns about\"\n",
    "                \" persistent insomnia and a sense of impending doom. Jonathan is currently\"\n",
    "                \" prescribed lorazepam (1mg as needed) for anxiety management, and we\"\n",
    "                \" discussed incorporating relaxation techniques into his daily routine. A\"\n",
    "                \" follow-up session is scheduled for November 19, 2023.\"\n",
    "            ),\n",
    "            483215,\n",
    "            \"2023-11-05\",\n",
    "        ),\n",
    "        (\n",
    "            2,\n",
    "            (\n",
    "                \"Olivia conveyed a persistent low mood and feelings of guilt related to a\"\n",
    "                \" recent personal loss. She described disruptions in her sleep pattern and\"\n",
    "                \" appetite. Olivia is not currently taking any medications. We explored grief\"\n",
    "                \" coping strategies and established a plan for ongoing support. Next session:\"\n",
    "                \" November 22, 2023.\"\n",
    "            ),\n",
    "            176824,\n",
    "            \"2023-11-08\",\n",
    "        ),\n",
    "        (\n",
    "            3,\n",
    "            (\n",
    "                \"Michael shared concerns about intrusive thoughts and compulsive behaviors\"\n",
    "                \" indicative of obsessive-compulsive disorder. He is currently prescribed\"\n",
    "                \" fluvoxamine (100mg daily). We discussed cognitive-behavioral strategies to\"\n",
    "                \" manage obsessive thoughts. A follow-up is scheduled for November 24, 2023.\"\n",
    "            ),\n",
    "            742309,\n",
    "            \"2023-11-10\",\n",
    "        ),\n",
    "        (\n",
    "            4,\n",
    "            (\n",
    "                \"Jasmine expressed feelings of overwhelming sadness and loss of interest in\"\n",
    "                \" activities she once enjoyed. She is prescribed escitalopram (10mg daily) for\"\n",
    "                \" depression. We discussed the importance of self-care and scheduled a\"\n",
    "                \" follow-up for November 29, 2023.\"\n",
    "            ),\n",
    "            589124,\n",
    "            \"2023-11-15\",\n",
    "        ),\n",
    "        (\n",
    "            5,\n",
    "            (\n",
    "                \"Lucas described acute anxiety related to social situations, impacting his\"\n",
    "                \" daily life. He is currently taking sertraline (50mg daily). We explored\"\n",
    "                \" exposure therapy techniques and set goals for gradual desensitization. The\"\n",
    "                \" next session is scheduled for December 2, 2023.\"\n",
    "            ),\n",
    "            317468,\n",
    "            \"2023-11-18\",\n",
    "        ),\n",
    "        (\n",
    "            6,\n",
    "            (\n",
    "                \"Zoe reported heightened stress levels due to academic pressures and\"\n",
    "                \" challenges with time management. She is not currently on medication. We\"\n",
    "                \" discussed stress reduction techniques and established strategies for\"\n",
    "                \" improved work-life balance. Follow-up session: December 6, 2023.\"\n",
    "            ),\n",
    "            864502,\n",
    "            \"2023-11-22\",\n",
    "        ),\n",
    "        (\n",
    "            7,\n",
    "            (\n",
    "                \"Ryan expressed symptoms of attention deficit hyperactivity disorder (ADHD),\"\n",
    "                \" including difficulty sustaining attention and impulsivity. He is prescribed\"\n",
    "                \" methylphenidate (20mg daily). We discussed behavioral strategies to manage\"\n",
    "                \" ADHD symptoms. Next session: December 9, 2023.\"\n",
    "            ),\n",
    "            125739,\n",
    "            \"2023-11-25\",\n",
    "        ),\n",
    "        (\n",
    "            8,\n",
    "            (\n",
    "                \"Ava shared concerns about recurrent panic attacks, particularly in crowded\"\n",
    "                \" spaces. She is prescribed clonazepam (0.5mg as needed). We discussed\"\n",
    "                \" breathing exercises and exposure therapy. Follow-up scheduled for December\"\n",
    "                \" 13, 2023\"\n",
    "            ),\n",
    "            650821,\n",
    "            \"2023-11-29\",\n",
    "        ),\n",
    "        (\n",
    "            9,\n",
    "            (\n",
    "                \"Elijah reported persistent feelings of emptiness and identity disturbance. He\"\n",
    "                \" is prescribed aripiprazole (5mg daily). We discussed the importance of mood\"\n",
    "                \" tracking and established goals for emotional regulation. Next session:\"\n",
    "                \" December 16, 2023.\"\n",
    "            ),\n",
    "            294617,\n",
    "            \"2023-12-02\",\n",
    "        ),\n",
    "        (\n",
    "            10,\n",
    "            (\n",
    "                \"Sophia discussed challenges with impulse control and emotional dysregulation.\"\n",
    "                \" She is currently prescribed lamotrigine (50mg daily). We explored\"\n",
    "                \" dialectical behavior therapy (DBT) skills to enhance emotion regulation.\"\n",
    "                \" Follow-up scheduled for December 19, 2023.\"\n",
    "            ),\n",
    "            817403,\n",
    "            \"2023-12-05\",\n",
    "        ),\n",
    "    ],\n",
    "    [\"NoteID\", \"NoteText\", \"UserID\", \"AppointmentDate\"],\n",
    ")"
   ]
  },
  {
   "cell_type": "code",
   "execution_count": 0,
   "metadata": {
    "application/vnd.databricks.v1+cell": {
     "cellMetadata": {
      "byteLimit": 2048000,
      "rowLimit": 10000
     },
     "inputWidgets": {},
     "nuid": "04326a55-9b08-45fb-b8e7-2d120bc29812",
     "showTitle": false,
     "title": ""
    }
   },
   "outputs": [],
   "source": [
    "df.write.format(\"delta\").mode(\"overwrite\").save(f\"abfss://bronze@{spark.conf.get('spark.secret.datalake-uri')}/{table_name}\")"
   ]
  },
  {
   "cell_type": "markdown",
   "metadata": {
    "application/vnd.databricks.v1+cell": {
     "cellMetadata": {},
     "inputWidgets": {},
     "nuid": "a3308958-06eb-46db-995c-0d222667e40c",
     "showTitle": false,
     "title": ""
    }
   },
   "source": [
    "Reading back the table that's been created and checking it looks as expected"
   ]
  },
  {
   "cell_type": "code",
   "execution_count": 0,
   "metadata": {
    "application/vnd.databricks.v1+cell": {
     "cellMetadata": {
      "byteLimit": 2048000,
      "rowLimit": 10000
     },
     "inputWidgets": {},
     "nuid": "75697b47-0cfc-4151-a7e7-5fb5850764a9",
     "showTitle": false,
     "title": ""
    }
   },
   "outputs": [],
   "source": [
    "def read_table(table_name: str, layer: str):\n",
    "    datalake_uri = spark.conf.get('spark.secret.datalake-uri')\n",
    "    path = f\"abfss://{layer}@{datalake_uri}/{table_name}\"\n",
    "    return spark.read.format(\"delta\").load(path)"
   ]
  },
  {
   "cell_type": "code",
   "execution_count": 0,
   "metadata": {
    "application/vnd.databricks.v1+cell": {
     "cellMetadata": {
      "byteLimit": 2048000,
      "rowLimit": 10000
     },
     "inputWidgets": {},
     "nuid": "a4ee4887-7e2e-4c18-9f92-7ba02b6c78ce",
     "showTitle": false,
     "title": ""
    }
   },
   "outputs": [
    {
     "output_type": "display_data",
     "data": {
      "text/html": [
       "<style scoped>\n",
       "  .table-result-container {\n",
       "    max-height: 300px;\n",
       "    overflow: auto;\n",
       "  }\n",
       "  table, th, td {\n",
       "    border: 1px solid black;\n",
       "    border-collapse: collapse;\n",
       "  }\n",
       "  th, td {\n",
       "    padding: 5px;\n",
       "  }\n",
       "  th {\n",
       "    text-align: left;\n",
       "  }\n",
       "</style><div class='table-result-container'><table class='table-result'><thead style='background-color: white'><tr><th>NoteID</th><th>NoteText</th><th>UserID</th><th>AppointmentDate</th></tr></thead><tbody><tr><td>1</td><td>Jonathan appeared agitated during today's session, reporting heightened irritability and difficulty focusing at work. He shared concerns about persistent insomnia and a sense of impending doom. Jonathan is currently prescribed lorazepam (1mg as needed) for anxiety management, and we discussed incorporating relaxation techniques into his daily routine. A follow-up session is scheduled for November 19, 2023.</td><td>483215</td><td>2023-11-05</td></tr><tr><td>2</td><td>Olivia conveyed a persistent low mood and feelings of guilt related to a recent personal loss. She described disruptions in her sleep pattern and appetite. Olivia is not currently taking any medications. We explored grief coping strategies and established a plan for ongoing support. Next session: November 22, 2023.</td><td>176824</td><td>2023-11-08</td></tr><tr><td>4</td><td>Jasmine expressed feelings of overwhelming sadness and loss of interest in activities she once enjoyed. She is prescribed escitalopram (10mg daily) for depression. We discussed the importance of self-care and scheduled a follow-up for November 29, 2023.</td><td>589124</td><td>2023-11-15</td></tr><tr><td>5</td><td>Lucas described acute anxiety related to social situations, impacting his daily life. He is currently taking sertraline (50mg daily). We explored exposure therapy techniques and set goals for gradual desensitization. The next session is scheduled for December 2, 2023.</td><td>317468</td><td>2023-11-18</td></tr><tr><td>9</td><td>Elijah reported persistent feelings of emptiness and identity disturbance. He is prescribed aripiprazole (5mg daily). We discussed the importance of mood tracking and established goals for emotional regulation. Next session: December 16, 2023.</td><td>294617</td><td>2023-12-02</td></tr><tr><td>10</td><td>Sophia discussed challenges with impulse control and emotional dysregulation. She is currently prescribed lamotrigine (50mg daily). We explored dialectical behavior therapy (DBT) skills to enhance emotion regulation. Follow-up scheduled for December 19, 2023.</td><td>817403</td><td>2023-12-05</td></tr><tr><td>3</td><td>Michael shared concerns about intrusive thoughts and compulsive behaviors indicative of obsessive-compulsive disorder. He is currently prescribed fluvoxamine (100mg daily). We discussed cognitive-behavioral strategies to manage obsessive thoughts. A follow-up is scheduled for November 24, 2023.</td><td>742309</td><td>2023-11-10</td></tr><tr><td>6</td><td>Zoe reported heightened stress levels due to academic pressures and challenges with time management. She is not currently on medication. We discussed stress reduction techniques and established strategies for improved work-life balance. Follow-up session: December 6, 2023.</td><td>864502</td><td>2023-11-22</td></tr><tr><td>7</td><td>Ryan expressed symptoms of attention deficit hyperactivity disorder (ADHD), including difficulty sustaining attention and impulsivity. He is prescribed methylphenidate (20mg daily). We discussed behavioral strategies to manage ADHD symptoms. Next session: December 9, 2023.</td><td>125739</td><td>2023-11-25</td></tr><tr><td>8</td><td>Ava shared concerns about recurrent panic attacks, particularly in crowded spaces. She is prescribed clonazepam (0.5mg as needed). We discussed breathing exercises and exposure therapy. Follow-up scheduled for December 13, 2023</td><td>650821</td><td>2023-11-29</td></tr></tbody></table></div>"
      ]
     },
     "metadata": {
      "application/vnd.databricks.v1+output": {
       "addedWidgets": {},
       "aggData": [],
       "aggError": "",
       "aggOverflow": false,
       "aggSchema": [],
       "aggSeriesLimitReached": false,
       "aggType": "",
       "arguments": {},
       "columnCustomDisplayInfos": {},
       "data": [
        [
         1,
         "Jonathan appeared agitated during today's session, reporting heightened irritability and difficulty focusing at work. He shared concerns about persistent insomnia and a sense of impending doom. Jonathan is currently prescribed lorazepam (1mg as needed) for anxiety management, and we discussed incorporating relaxation techniques into his daily routine. A follow-up session is scheduled for November 19, 2023.",
         483215,
         "2023-11-05"
        ],
        [
         2,
         "Olivia conveyed a persistent low mood and feelings of guilt related to a recent personal loss. She described disruptions in her sleep pattern and appetite. Olivia is not currently taking any medications. We explored grief coping strategies and established a plan for ongoing support. Next session: November 22, 2023.",
         176824,
         "2023-11-08"
        ],
        [
         4,
         "Jasmine expressed feelings of overwhelming sadness and loss of interest in activities she once enjoyed. She is prescribed escitalopram (10mg daily) for depression. We discussed the importance of self-care and scheduled a follow-up for November 29, 2023.",
         589124,
         "2023-11-15"
        ],
        [
         5,
         "Lucas described acute anxiety related to social situations, impacting his daily life. He is currently taking sertraline (50mg daily). We explored exposure therapy techniques and set goals for gradual desensitization. The next session is scheduled for December 2, 2023.",
         317468,
         "2023-11-18"
        ],
        [
         9,
         "Elijah reported persistent feelings of emptiness and identity disturbance. He is prescribed aripiprazole (5mg daily). We discussed the importance of mood tracking and established goals for emotional regulation. Next session: December 16, 2023.",
         294617,
         "2023-12-02"
        ],
        [
         10,
         "Sophia discussed challenges with impulse control and emotional dysregulation. She is currently prescribed lamotrigine (50mg daily). We explored dialectical behavior therapy (DBT) skills to enhance emotion regulation. Follow-up scheduled for December 19, 2023.",
         817403,
         "2023-12-05"
        ],
        [
         3,
         "Michael shared concerns about intrusive thoughts and compulsive behaviors indicative of obsessive-compulsive disorder. He is currently prescribed fluvoxamine (100mg daily). We discussed cognitive-behavioral strategies to manage obsessive thoughts. A follow-up is scheduled for November 24, 2023.",
         742309,
         "2023-11-10"
        ],
        [
         6,
         "Zoe reported heightened stress levels due to academic pressures and challenges with time management. She is not currently on medication. We discussed stress reduction techniques and established strategies for improved work-life balance. Follow-up session: December 6, 2023.",
         864502,
         "2023-11-22"
        ],
        [
         7,
         "Ryan expressed symptoms of attention deficit hyperactivity disorder (ADHD), including difficulty sustaining attention and impulsivity. He is prescribed methylphenidate (20mg daily). We discussed behavioral strategies to manage ADHD symptoms. Next session: December 9, 2023.",
         125739,
         "2023-11-25"
        ],
        [
         8,
         "Ava shared concerns about recurrent panic attacks, particularly in crowded spaces. She is prescribed clonazepam (0.5mg as needed). We discussed breathing exercises and exposure therapy. Follow-up scheduled for December 13, 2023",
         650821,
         "2023-11-29"
        ]
       ],
       "datasetInfos": [],
       "dbfsResultPath": null,
       "isJsonSchema": true,
       "metadata": {},
       "overflow": false,
       "plotOptions": {
        "customPlotOptions": {},
        "displayType": "table",
        "pivotAggregation": null,
        "pivotColumns": null,
        "xColumns": null,
        "yColumns": null
       },
       "removedWidgets": [],
       "schema": [
        {
         "metadata": "{}",
         "name": "NoteID",
         "type": "\"long\""
        },
        {
         "metadata": "{}",
         "name": "NoteText",
         "type": "\"string\""
        },
        {
         "metadata": "{}",
         "name": "UserID",
         "type": "\"long\""
        },
        {
         "metadata": "{}",
         "name": "AppointmentDate",
         "type": "\"string\""
        }
       ],
       "type": "table"
      }
     },
     "output_type": "display_data"
    }
   ],
   "source": [
    "df = read_table(table_name, \"bronze\")\n",
    "display(df)"
   ]
  },
  {
   "cell_type": "markdown",
   "metadata": {
    "application/vnd.databricks.v1+cell": {
     "cellMetadata": {},
     "inputWidgets": {},
     "nuid": "f8b9b0c1-bc01-4b30-bb48-22ffa2ee9acf",
     "showTitle": false,
     "title": ""
    }
   },
   "source": [
    "## Checking the result of the pipeline\n",
    "\n",
    "After running the previous cells, head to ADF instance of your resource group (it will have a name like `adf-${flowehr_id}-dev)` and trigger the PatientsPipeline (click on `Add Trigger` - `Trigger Now`)."
   ]
  },
  {
   "cell_type": "markdown",
   "metadata": {
    "application/vnd.databricks.v1+cell": {
     "cellMetadata": {
      "byteLimit": 2048000,
      "rowLimit": 10000
     },
     "inputWidgets": {},
     "nuid": "f0af8737-4ca1-40b3-91f8-c701df53545c",
     "showTitle": false,
     "title": ""
    }
   },
   "source": [
    "After it runs successfully, run the code below to check the result in the Gold layer of the Data Lake."
   ]
  },
  {
   "cell_type": "code",
   "execution_count": 0,
   "metadata": {
    "application/vnd.databricks.v1+cell": {
     "cellMetadata": {
      "byteLimit": 2048000,
      "rowLimit": 10000
     },
     "inputWidgets": {},
     "nuid": "298230c6-63c7-4c38-b5d2-5095ee8a9a35",
     "showTitle": false,
     "title": ""
    }
   },
   "outputs": [
    {
     "output_type": "display_data",
     "data": {
      "text/html": [
       "<style scoped>\n",
       "  .table-result-container {\n",
       "    max-height: 300px;\n",
       "    overflow: auto;\n",
       "  }\n",
       "  table, th, td {\n",
       "    border: 1px solid black;\n",
       "    border-collapse: collapse;\n",
       "  }\n",
       "  th, td {\n",
       "    padding: 5px;\n",
       "  }\n",
       "  th {\n",
       "    text-align: left;\n",
       "  }\n",
       "</style><div class='table-result-container'><table class='table-result'><thead style='background-color: white'><tr><th>NoteID</th><th>NoteText</th><th>AppointmentDate</th></tr></thead><tbody><tr><td>3</td><td><PERSON> shared concerns about intrusive thoughts and compulsive behaviors indicative of obsessive-compulsive disorder. He is currently prescribed fluvoxamine (100mg <DATE_TIME>). We discussed cognitive-behavioral strategies to manage obsessive thoughts. A follow-up is scheduled for <DATE_TIME>.</td><td>2023-11-10T00:00:00Z</td></tr><tr><td>5</td><td><PERSON> described acute anxiety related to social situations, impacting his <DATE_TIME> life. He is currently taking sertraline (50mg <DATE_TIME>). We explored exposure therapy techniques and set goals for gradual desensitization. The next session is scheduled for <DATE_TIME>.</td><td>2023-11-18T00:00:00Z</td></tr><tr><td>7</td><td><PERSON> expressed symptoms of attention deficit hyperactivity disorder (ADHD), including difficulty sustaining attention and impulsivity. He is prescribed methylphenidate (20mg <DATE_TIME>). We discussed behavioral strategies to manage ADHD symptoms. Next session: <DATE_TIME>.</td><td>2023-11-25T00:00:00Z</td></tr><tr><td>6</td><td><PERSON> reported heightened stress levels due to academic pressures and challenges with time management. She is not currently on medication. We discussed stress reduction techniques and established strategies for improved work-life balance. Follow-up session: <DATE_TIME>.</td><td>2023-11-22T00:00:00Z</td></tr><tr><td>10</td><td><PERSON> discussed challenges with impulse control and emotional dysregulation. She is currently prescribed lamotrigine (50mg <DATE_TIME>). We explored dialectical behavior therapy (DBT) skills to enhance emotion regulation. Follow-up scheduled for <DATE_TIME>.</td><td>2023-12-05T00:00:00Z</td></tr><tr><td>1</td><td><PERSON> appeared agitated during <DATE_TIME>'s session, reporting heightened irritability and difficulty focusing at work. He shared concerns about persistent insomnia and a sense of impending doom. <PERSON> is currently prescribed lorazepam (1mg as needed) for anxiety management, and we discussed incorporating relaxation techniques into his <DATE_TIME> routine. A follow-up session is scheduled for <DATE_TIME>.</td><td>2023-11-05T00:00:00Z</td></tr><tr><td>4</td><td><PERSON> expressed feelings of overwhelming sadness and loss of interest in activities she once enjoyed. She is prescribed escitalopram (10mg <DATE_TIME>) for depression. We discussed the importance of self-care and scheduled a follow-up for <DATE_TIME>.</td><td>2023-11-15T00:00:00Z</td></tr><tr><td>8</td><td><PERSON> shared concerns about recurrent panic attacks, particularly in crowded spaces. She is prescribed clonazepam (0.5mg as needed). We discussed breathing exercises and exposure therapy. Follow-up scheduled for <DATE_TIME>, <DATE_TIME></td><td>2023-11-29T00:00:00Z</td></tr><tr><td>2</td><td><PERSON> conveyed a persistent low mood and feelings of guilt related to a recent personal loss. She described disruptions in her sleep pattern and appetite. <PERSON> is not currently taking any medications. We explored grief coping strategies and established a plan for ongoing support. Next session: <DATE_TIME>.</td><td>2023-11-08T00:00:00Z</td></tr><tr><td>9</td><td><PERSON> reported persistent feelings of emptiness and identity disturbance. He is prescribed aripiprazole (5mg <DATE_TIME>). We discussed the importance of mood tracking and established goals for emotional regulation. Next session: <DATE_TIME>.</td><td>2023-12-02T00:00:00Z</td></tr></tbody></table></div>"
      ]
     },
     "metadata": {
      "application/vnd.databricks.v1+output": {
       "addedWidgets": {},
       "aggData": [],
       "aggError": "",
       "aggOverflow": false,
       "aggSchema": [],
       "aggSeriesLimitReached": false,
       "aggType": "",
       "arguments": {},
       "columnCustomDisplayInfos": {},
       "data": [
        [
         3,
         "<PERSON> shared concerns about intrusive thoughts and compulsive behaviors indicative of obsessive-compulsive disorder. He is currently prescribed fluvoxamine (100mg <DATE_TIME>). We discussed cognitive-behavioral strategies to manage obsessive thoughts. A follow-up is scheduled for <DATE_TIME>.",
         "2023-11-10T00:00:00Z"
        ],
        [
         5,
         "<PERSON> described acute anxiety related to social situations, impacting his <DATE_TIME> life. He is currently taking sertraline (50mg <DATE_TIME>). We explored exposure therapy techniques and set goals for gradual desensitization. The next session is scheduled for <DATE_TIME>.",
         "2023-11-18T00:00:00Z"
        ],
        [
         7,
         "<PERSON> expressed symptoms of attention deficit hyperactivity disorder (ADHD), including difficulty sustaining attention and impulsivity. He is prescribed methylphenidate (20mg <DATE_TIME>). We discussed behavioral strategies to manage ADHD symptoms. Next session: <DATE_TIME>.",
         "2023-11-25T00:00:00Z"
        ],
        [
         6,
         "<PERSON> reported heightened stress levels due to academic pressures and challenges with time management. She is not currently on medication. We discussed stress reduction techniques and established strategies for improved work-life balance. Follow-up session: <DATE_TIME>.",
         "2023-11-22T00:00:00Z"
        ],
        [
         10,
         "<PERSON> discussed challenges with impulse control and emotional dysregulation. She is currently prescribed lamotrigine (50mg <DATE_TIME>). We explored dialectical behavior therapy (DBT) skills to enhance emotion regulation. Follow-up scheduled for <DATE_TIME>.",
         "2023-12-05T00:00:00Z"
        ],
        [
         1,
         "<PERSON> appeared agitated during <DATE_TIME>'s session, reporting heightened irritability and difficulty focusing at work. He shared concerns about persistent insomnia and a sense of impending doom. <PERSON> is currently prescribed lorazepam (1mg as needed) for anxiety management, and we discussed incorporating relaxation techniques into his <DATE_TIME> routine. A follow-up session is scheduled for <DATE_TIME>.",
         "2023-11-05T00:00:00Z"
        ],
        [
         4,
         "<PERSON> expressed feelings of overwhelming sadness and loss of interest in activities she once enjoyed. She is prescribed escitalopram (10mg <DATE_TIME>) for depression. We discussed the importance of self-care and scheduled a follow-up for <DATE_TIME>.",
         "2023-11-15T00:00:00Z"
        ],
        [
         8,
         "<PERSON> shared concerns about recurrent panic attacks, particularly in crowded spaces. She is prescribed clonazepam (0.5mg as needed). We discussed breathing exercises and exposure therapy. Follow-up scheduled for <DATE_TIME>, <DATE_TIME>",
         "2023-11-29T00:00:00Z"
        ],
        [
         2,
         "<PERSON> conveyed a persistent low mood and feelings of guilt related to a recent personal loss. She described disruptions in her sleep pattern and appetite. <PERSON> is not currently taking any medications. We explored grief coping strategies and established a plan for ongoing support. Next session: <DATE_TIME>.",
         "2023-11-08T00:00:00Z"
        ],
        [
         9,
         "<PERSON> reported persistent feelings of emptiness and identity disturbance. He is prescribed aripiprazole (5mg <DATE_TIME>). We discussed the importance of mood tracking and established goals for emotional regulation. Next session: <DATE_TIME>.",
         "2023-12-02T00:00:00Z"
        ]
       ],
       "datasetInfos": [],
       "dbfsResultPath": null,
       "isJsonSchema": true,
       "metadata": {},
       "overflow": false,
       "plotOptions": {
        "customPlotOptions": {},
        "displayType": "table",
        "pivotAggregation": null,
        "pivotColumns": null,
        "xColumns": null,
        "yColumns": null
       },
       "removedWidgets": [],
       "schema": [
        {
         "metadata": "{}",
         "name": "NoteID",
         "type": "\"long\""
        },
        {
         "metadata": "{}",
         "name": "NoteText",
         "type": "\"string\""
        },
        {
         "metadata": "{}",
         "name": "AppointmentDate",
         "type": "\"timestamp\""
        }
       ],
       "type": "table"
      }
     },
     "output_type": "display_data"
    }
   ],
   "source": [
    "df = read_table(table_name, \"silver\")\n",
    "display(df)"
   ]
  },
  {
   "cell_type": "code",
   "execution_count": 0,
   "metadata": {
    "application/vnd.databricks.v1+cell": {
     "cellMetadata": {
      "byteLimit": 2048000,
      "rowLimit": 10000
     },
     "inputWidgets": {},
     "nuid": "17902b0c-46b3-4f4d-b063-6b83b80c9d1b",
     "showTitle": false,
     "title": ""
    }
   },
   "outputs": [
    {
     "output_type": "display_data",
     "data": {
      "text/html": [
       "<style scoped>\n",
       "  .table-result-container {\n",
       "    max-height: 300px;\n",
       "    overflow: auto;\n",
       "  }\n",
       "  table, th, td {\n",
       "    border: 1px solid black;\n",
       "    border-collapse: collapse;\n",
       "  }\n",
       "  th, td {\n",
       "    padding: 5px;\n",
       "  }\n",
       "  th {\n",
       "    text-align: left;\n",
       "  }\n",
       "</style><div class='table-result-container'><table class='table-result'><thead style='background-color: white'><tr><th>NoteID</th><th>NoteText</th><th>AppointmentDate</th><th>AnalyzeHealthText_bcca9d806010_error</th><th>NoteText_extracted</th></tr></thead><tbody><tr><td>10</td><td><PERSON> discussed challenges with impulse control and emotional dysregulation. She is currently prescribed lamotrigine (50mg <DATE_TIME>). We explored dialectical behavior therapy (DBT) skills to enhance emotion regulation. Follow-up scheduled for <DATE_TIME>.</td><td>2023-12-05T00:00:00Z</td><td>null</td><td>List(null, List(0, List(List(108, 11, lamotrigine, MedicationName, 1.0), List(121, 4, 50mg, Dosage, 1.0), List(152, 28, dialectical behavior therapy, TreatmentName, 0.97), List(182, 3, DBT, TreatmentName, 0.97), List(205, 18, emotion regulation, TreatmentName, 0.72), List(225, 9, Follow-up, AdministrativeEvent, 0.94)), List(List(DosageOfMedication, List(List(#/results/documents/0/entities/0, Medication), List(#/results/documents/0/entities/1, Dosage))), List(Abbreviation, List(List(#/results/documents/0/entities/2, FullTerm), List(#/results/documents/0/entities/3, AbbreviatedTerm)))), List(), null), null, 2023-04-01)</td></tr><tr><td>1</td><td><PERSON> appeared agitated during <DATE_TIME>'s session, reporting heightened irritability and difficulty focusing at work. He shared concerns about persistent insomnia and a sense of impending doom. <PERSON> is currently prescribed lorazepam (1mg as needed) for anxiety management, and we discussed incorporating relaxation techniques into his <DATE_TIME> routine. A follow-up session is scheduled for <DATE_TIME>.</td><td>2023-11-05T00:00:00Z</td><td>null</td><td>List(null, List(1, List(List(18, 8, agitated, SymptomOrSign, 0.97), List(67, 10, heightened, ConditionQualifier, 0.95), List(78, 12, irritability, SymptomOrSign, 0.98), List(95, 27, difficulty focusing at work, SymptomOrSign, 0.88), List(149, 19, persistent insomnia, Diagnosis, 1.0), List(233, 9, lorazepam, MedicationName, 1.0), List(244, 3, 1mg, Dosage, 1.0), List(248, 9, as needed, Frequency, 0.99), List(263, 18, anxiety management, TreatmentName, 0.85), List(314, 21, relaxation techniques, TreatmentName, 0.93), List(368, 17, follow-up session, AdministrativeEvent, 0.93)), List(List(QualifierOfCondition, List(List(#/results/documents/1/entities/1, Qualifier), List(#/results/documents/1/entities/2, Condition))), List(QualifierOfCondition, List(List(#/results/documents/1/entities/1, Qualifier), List(#/results/documents/1/entities/3, Condition))), List(DosageOfMedication, List(List(#/results/documents/1/entities/5, Medication), List(#/results/documents/1/entities/6, Dosage))), List(FrequencyOfMedication, List(List(#/results/documents/1/entities/5, Medication), List(#/results/documents/1/entities/7, Frequency)))), List(), null), null, 2023-04-01)</td></tr><tr><td>4</td><td><PERSON> expressed feelings of overwhelming sadness and loss of interest in activities she once enjoyed. She is prescribed escitalopram (10mg <DATE_TIME>) for depression. We discussed the importance of self-care and scheduled a follow-up for <DATE_TIME>.</td><td>2023-11-15T00:00:00Z</td><td>null</td><td>List(null, List(2, List(List(31, 12, overwhelming, ConditionQualifier, 0.65), List(44, 7, sadness, SymptomOrSign, 0.86), List(56, 4, loss, SymptomOrSign, 0.72), List(123, 12, escitalopram, MedicationName, 1.0), List(137, 4, 10mg, Dosage, 1.0), List(159, 10, depression, Diagnosis, 0.97), List(228, 9, follow-up, AdministrativeEvent, 0.92)), List(List(QualifierOfCondition, List(List(#/results/documents/2/entities/0, Qualifier), List(#/results/documents/2/entities/1, Condition))), List(QualifierOfCondition, List(List(#/results/documents/2/entities/0, Qualifier), List(#/results/documents/2/entities/2, Condition))), List(DosageOfMedication, List(List(#/results/documents/2/entities/3, Medication), List(#/results/documents/2/entities/4, Dosage)))), List(), null), null, 2023-04-01)</td></tr><tr><td>8</td><td><PERSON> shared concerns about recurrent panic attacks, particularly in crowded spaces. She is prescribed clonazepam (0.5mg as needed). We discussed breathing exercises and exposure therapy. Follow-up scheduled for <DATE_TIME>, <DATE_TIME></td><td>2023-11-29T00:00:00Z</td><td>null</td><td>List(null, List(0, List(List(31, 9, recurrent, Course, 0.97), List(41, 13, panic attacks, Diagnosis, 1.0), List(106, 10, clonazepam, MedicationName, 1.0), List(118, 5, 0.5mg, Dosage, 1.0), List(124, 9, as needed, Frequency, 0.97), List(149, 19, breathing exercises, TreatmentName, 0.99), List(173, 16, exposure therapy, TreatmentName, 1.0), List(191, 9, Follow-up, AdministrativeEvent, 0.94)), List(List(CourseOfCondition, List(List(#/results/documents/0/entities/0, Course), List(#/results/documents/0/entities/1, Condition))), List(DosageOfMedication, List(List(#/results/documents/0/entities/2, Medication), List(#/results/documents/0/entities/3, Dosage))), List(FrequencyOfMedication, List(List(#/results/documents/0/entities/2, Medication), List(#/results/documents/0/entities/4, Frequency)))), List(), null), null, 2023-04-01)</td></tr><tr><td>2</td><td><PERSON> conveyed a persistent low mood and feelings of guilt related to a recent personal loss. She described disruptions in her sleep pattern and appetite. <PERSON> is not currently taking any medications. We explored grief coping strategies and established a plan for ongoing support. Next session: <DATE_TIME>.</td><td>2023-11-08T00:00:00Z</td><td>null</td><td>List(null, List(1, List(List(20, 10, persistent, Course, 0.64), List(31, 8, low mood, SymptomOrSign, 0.98), List(44, 17, feelings of guilt, SymptomOrSign, 0.71), List(111, 32, disruptions in her sleep pattern, SymptomOrSign, 0.99), List(148, 8, appetite, SymptomOrSign, 1.0), List(195, 11, medications, TreatmentName, 0.97), List(220, 23, grief coping strategies, TreatmentName, 0.66)), List(List(CourseOfCondition, List(List(#/results/documents/1/entities/0, Course), List(#/results/documents/1/entities/1, Condition))), List(CourseOfCondition, List(List(#/results/documents/1/entities/0, Course), List(#/results/documents/1/entities/2, Condition)))), List(), null), null, 2023-04-01)</td></tr><tr><td>9</td><td><PERSON> reported persistent feelings of emptiness and identity disturbance. He is prescribed aripiprazole (5mg <DATE_TIME>). We discussed the importance of mood tracking and established goals for emotional regulation. Next session: <DATE_TIME>.</td><td>2023-12-02T00:00:00Z</td><td>null</td><td>List(null, List(2, List(List(18, 10, persistent, Course, 0.84), List(41, 9, emptiness, SymptomOrSign, 0.9), List(55, 20, identity disturbance, SymptomOrSign, 0.9), List(94, 12, aripiprazole, MedicationName, 1.0), List(108, 3, 5mg, Dosage, 1.0)), List(List(CourseOfCondition, List(List(#/results/documents/2/entities/0, Course), List(#/results/documents/2/entities/1, Condition))), List(CourseOfCondition, List(List(#/results/documents/2/entities/0, Course), List(#/results/documents/2/entities/2, Condition))), List(DosageOfMedication, List(List(#/results/documents/2/entities/3, Medication), List(#/results/documents/2/entities/4, Dosage)))), List(), null), null, 2023-04-01)</td></tr><tr><td>7</td><td><PERSON> expressed symptoms of attention deficit hyperactivity disorder (ADHD), including difficulty sustaining attention and impulsivity. He is prescribed methylphenidate (20mg <DATE_TIME>). We discussed behavioral strategies to manage ADHD symptoms. Next session: <DATE_TIME>.</td><td>2023-11-25T00:00:00Z</td><td>null</td><td>List(null, List(0, List(List(19, 8, symptoms, SymptomOrSign, 0.73), List(31, 40, attention deficit hyperactivity disorder, Diagnosis, 1.0), List(73, 4, ADHD, Diagnosis, 1.0), List(90, 31, difficulty sustaining attention, SymptomOrSign, 0.98), List(126, 11, impulsivity, SymptomOrSign, 0.98), List(156, 15, methylphenidate, MedicationName, 1.0), List(173, 4, 20mg, Dosage, 1.0), List(205, 21, behavioral strategies, TreatmentName, 0.68), List(237, 4, ADHD, Diagnosis, 1.0), List(242, 8, symptoms, SymptomOrSign, 0.73)), List(List(Abbreviation, List(List(#/results/documents/0/entities/1, FullTerm), List(#/results/documents/0/entities/2, AbbreviatedTerm))), List(Abbreviation, List(List(#/results/documents/0/entities/1, FullTerm), List(#/results/documents/0/entities/8, AbbreviatedTerm))), List(DosageOfMedication, List(List(#/results/documents/0/entities/5, Medication), List(#/results/documents/0/entities/6, Dosage)))), List(), null), null, 2023-04-01)</td></tr><tr><td>6</td><td><PERSON> reported heightened stress levels due to academic pressures and challenges with time management. She is not currently on medication. We discussed stress reduction techniques and established strategies for improved work-life balance. Follow-up session: <DATE_TIME>.</td><td>2023-11-22T00:00:00Z</td><td>null</td><td>List(null, List(1, List(List(29, 6, stress, SymptomOrSign, 1.0), List(130, 10, medication, TreatmentName, 0.96), List(155, 27, stress reduction techniques, TreatmentName, 0.9), List(214, 8, improved, Course, 0.9), List(242, 17, Follow-up session, AdministrativeEvent, 0.88)), List(), List(), null), null, 2023-04-01)</td></tr><tr><td>3</td><td><PERSON> shared concerns about intrusive thoughts and compulsive behaviors indicative of obsessive-compulsive disorder. He is currently prescribed fluvoxamine (100mg <DATE_TIME>). We discussed cognitive-behavioral strategies to manage obsessive thoughts. A follow-up is scheduled for <DATE_TIME>.</td><td>2023-11-10T00:00:00Z</td><td>null</td><td>List(null, List(0, List(List(31, 18, intrusive thoughts, SymptomOrSign, 0.89), List(54, 20, compulsive behaviors, SymptomOrSign, 0.82), List(89, 29, obsessive-compulsive disorder, Diagnosis, 1.0), List(147, 11, fluvoxamine, MedicationName, 1.0), List(160, 5, 100mg, Dosage, 1.0), List(193, 31, cognitive-behavioral strategies, TreatmentName, 0.86), List(235, 18, obsessive thoughts, Diagnosis, 0.62), List(257, 9, follow-up, AdministrativeEvent, 0.95)), List(List(DosageOfMedication, List(List(#/results/documents/0/entities/3, Medication), List(#/results/documents/0/entities/4, Dosage)))), List(), null), null, 2023-04-01)</td></tr><tr><td>5</td><td><PERSON> described acute anxiety related to social situations, impacting his <DATE_TIME> life. He is currently taking sertraline (50mg <DATE_TIME>). We explored exposure therapy techniques and set goals for gradual desensitization. The next session is scheduled for <DATE_TIME>.</td><td>2023-11-18T00:00:00Z</td><td>null</td><td>List(null, List(1, List(List(19, 13, acute anxiety, Diagnosis, 1.0), List(118, 10, sertraline, MedicationName, 1.0), List(130, 4, 50mg, Dosage, 1.0), List(161, 27, exposure therapy techniques, TreatmentName, 0.88), List(207, 7, gradual, Course, 0.63), List(215, 15, desensitization, TreatmentName, 0.99)), List(List(DosageOfMedication, List(List(#/results/documents/1/entities/1, Medication), List(#/results/documents/1/entities/2, Dosage))), List(CourseOfTreatment, List(List(#/results/documents/1/entities/4, Course), List(#/results/documents/1/entities/5, Treatment)))), List(), null), null, 2023-04-01)</td></tr></tbody></table></div>"
      ]
     },
     "metadata": {
      "application/vnd.databricks.v1+output": {
       "addedWidgets": {},
       "aggData": [],
       "aggError": "",
       "aggOverflow": false,
       "aggSchema": [],
       "aggSeriesLimitReached": false,
       "aggType": "",
       "arguments": {},
       "columnCustomDisplayInfos": {},
       "data": [
        [
         10,
         "<PERSON> discussed challenges with impulse control and emotional dysregulation. She is currently prescribed lamotrigine (50mg <DATE_TIME>). We explored dialectical behavior therapy (DBT) skills to enhance emotion regulation. Follow-up scheduled for <DATE_TIME>.",
         "2023-12-05T00:00:00Z",
         null,
         [
          null,
          [
           "0",
           [
            [
             108,
             11,
             "lamotrigine",
             "MedicationName",
             1.0
            ],
            [
             121,
             4,
             "50mg",
             "Dosage",
             1.0
            ],
            [
             152,
             28,
             "dialectical behavior therapy",
             "TreatmentName",
             0.97
            ],
            [
             182,
             3,
             "DBT",
             "TreatmentName",
             0.97
            ],
            [
             205,
             18,
             "emotion regulation",
             "TreatmentName",
             0.72
            ],
            [
             225,
             9,
             "Follow-up",
             "AdministrativeEvent",
             0.94
            ]
           ],
           [
            [
             "DosageOfMedication",
             [
              [
               "#/results/documents/0/entities/0",
               "Medication"
              ],
              [
               "#/results/documents/0/entities/1",
               "Dosage"
              ]
             ]
            ],
            [
             "Abbreviation",
             [
              [
               "#/results/documents/0/entities/2",
               "FullTerm"
              ],
              [
               "#/results/documents/0/entities/3",
               "AbbreviatedTerm"
              ]
             ]
            ]
           ],
           [],
           null
          ],
          null,
          "2023-04-01"
         ]
        ],
        [
         1,
         "<PERSON> appeared agitated during <DATE_TIME>'s session, reporting heightened irritability and difficulty focusing at work. He shared concerns about persistent insomnia and a sense of impending doom. <PERSON> is currently prescribed lorazepam (1mg as needed) for anxiety management, and we discussed incorporating relaxation techniques into his <DATE_TIME> routine. A follow-up session is scheduled for <DATE_TIME>.",
         "2023-11-05T00:00:00Z",
         null,
         [
          null,
          [
           "1",
           [
            [
             18,
             8,
             "agitated",
             "SymptomOrSign",
             0.97
            ],
            [
             67,
             10,
             "heightened",
             "ConditionQualifier",
             0.95
            ],
            [
             78,
             12,
             "irritability",
             "SymptomOrSign",
             0.98
            ],
            [
             95,
             27,
             "difficulty focusing at work",
             "SymptomOrSign",
             0.88
            ],
            [
             149,
             19,
             "persistent insomnia",
             "Diagnosis",
             1.0
            ],
            [
             233,
             9,
             "lorazepam",
             "MedicationName",
             1.0
            ],
            [
             244,
             3,
             "1mg",
             "Dosage",
             1.0
            ],
            [
             248,
             9,
             "as needed",
             "Frequency",
             0.99
            ],
            [
             263,
             18,
             "anxiety management",
             "TreatmentName",
             0.85
            ],
            [
             314,
             21,
             "relaxation techniques",
             "TreatmentName",
             0.93
            ],
            [
             368,
             17,
             "follow-up session",
             "AdministrativeEvent",
             0.93
            ]
           ],
           [
            [
             "QualifierOfCondition",
             [
              [
               "#/results/documents/1/entities/1",
               "Qualifier"
              ],
              [
               "#/results/documents/1/entities/2",
               "Condition"
              ]
             ]
            ],
            [
             "QualifierOfCondition",
             [
              [
               "#/results/documents/1/entities/1",
               "Qualifier"
              ],
              [
               "#/results/documents/1/entities/3",
               "Condition"
              ]
             ]
            ],
            [
             "DosageOfMedication",
             [
              [
               "#/results/documents/1/entities/5",
               "Medication"
              ],
              [
               "#/results/documents/1/entities/6",
               "Dosage"
              ]
             ]
            ],
            [
             "FrequencyOfMedication",
             [
              [
               "#/results/documents/1/entities/5",
               "Medication"
              ],
              [
               "#/results/documents/1/entities/7",
               "Frequency"
              ]
             ]
            ]
           ],
           [],
           null
          ],
          null,
          "2023-04-01"
         ]
        ],
        [
         4,
         "<PERSON> expressed feelings of overwhelming sadness and loss of interest in activities she once enjoyed. She is prescribed escitalopram (10mg <DATE_TIME>) for depression. We discussed the importance of self-care and scheduled a follow-up for <DATE_TIME>.",
         "2023-11-15T00:00:00Z",
         null,
         [
          null,
          [
           "2",
           [
            [
             31,
             12,
             "overwhelming",
             "ConditionQualifier",
             0.65
            ],
            [
             44,
             7,
             "sadness",
             "SymptomOrSign",
             0.86
            ],
            [
             56,
             4,
             "loss",
             "SymptomOrSign",
             0.72
            ],
            [
             123,
             12,
             "escitalopram",
             "MedicationName",
             1.0
            ],
            [
             137,
             4,
             "10mg",
             "Dosage",
             1.0
            ],
            [
             159,
             10,
             "depression",
             "Diagnosis",
             0.97
            ],
            [
             228,
             9,
             "follow-up",
             "AdministrativeEvent",
             0.92
            ]
           ],
           [
            [
             "QualifierOfCondition",
             [
              [
               "#/results/documents/2/entities/0",
               "Qualifier"
              ],
              [
               "#/results/documents/2/entities/1",
               "Condition"
              ]
             ]
            ],
            [
             "QualifierOfCondition",
             [
              [
               "#/results/documents/2/entities/0",
               "Qualifier"
              ],
              [
               "#/results/documents/2/entities/2",
               "Condition"
              ]
             ]
            ],
            [
             "DosageOfMedication",
             [
              [
               "#/results/documents/2/entities/3",
               "Medication"
              ],
              [
               "#/results/documents/2/entities/4",
               "Dosage"
              ]
             ]
            ]
           ],
           [],
           null
          ],
          null,
          "2023-04-01"
         ]
        ],
        [
         8,
         "<PERSON> shared concerns about recurrent panic attacks, particularly in crowded spaces. She is prescribed clonazepam (0.5mg as needed). We discussed breathing exercises and exposure therapy. Follow-up scheduled for <DATE_TIME>, <DATE_TIME>",
         "2023-11-29T00:00:00Z",
         null,
         [
          null,
          [
           "0",
           [
            [
             31,
             9,
             "recurrent",
             "Course",
             0.97
            ],
            [
             41,
             13,
             "panic attacks",
             "Diagnosis",
             1.0
            ],
            [
             106,
             10,
             "clonazepam",
             "MedicationName",
             1.0
            ],
            [
             118,
             5,
             "0.5mg",
             "Dosage",
             1.0
            ],
            [
             124,
             9,
             "as needed",
             "Frequency",
             0.97
            ],
            [
             149,
             19,
             "breathing exercises",
             "TreatmentName",
             0.99
            ],
            [
             173,
             16,
             "exposure therapy",
             "TreatmentName",
             1.0
            ],
            [
             191,
             9,
             "Follow-up",
             "AdministrativeEvent",
             0.94
            ]
           ],
           [
            [
             "CourseOfCondition",
             [
              [
               "#/results/documents/0/entities/0",
               "Course"
              ],
              [
               "#/results/documents/0/entities/1",
               "Condition"
              ]
             ]
            ],
            [
             "DosageOfMedication",
             [
              [
               "#/results/documents/0/entities/2",
               "Medication"
              ],
              [
               "#/results/documents/0/entities/3",
               "Dosage"
              ]
             ]
            ],
            [
             "FrequencyOfMedication",
             [
              [
               "#/results/documents/0/entities/2",
               "Medication"
              ],
              [
               "#/results/documents/0/entities/4",
               "Frequency"
              ]
             ]
            ]
           ],
           [],
           null
          ],
          null,
          "2023-04-01"
         ]
        ],
        [
         2,
         "<PERSON> conveyed a persistent low mood and feelings of guilt related to a recent personal loss. She described disruptions in her sleep pattern and appetite. <PERSON> is not currently taking any medications. We explored grief coping strategies and established a plan for ongoing support. Next session: <DATE_TIME>.",
         "2023-11-08T00:00:00Z",
         null,
         [
          null,
          [
           "1",
           [
            [
             20,
             10,
             "persistent",
             "Course",
             0.64
            ],
            [
             31,
             8,
             "low mood",
             "SymptomOrSign",
             0.98
            ],
            [
             44,
             17,
             "feelings of guilt",
             "SymptomOrSign",
             0.71
            ],
            [
             111,
             32,
             "disruptions in her sleep pattern",
             "SymptomOrSign",
             0.99
            ],
            [
             148,
             8,
             "appetite",
             "SymptomOrSign",
             1.0
            ],
            [
             195,
             11,
             "medications",
             "TreatmentName",
             0.97
            ],
            [
             220,
             23,
             "grief coping strategies",
             "TreatmentName",
             0.66
            ]
           ],
           [
            [
             "CourseOfCondition",
             [
              [
               "#/results/documents/1/entities/0",
               "Course"
              ],
              [
               "#/results/documents/1/entities/1",
               "Condition"
              ]
             ]
            ],
            [
             "CourseOfCondition",
             [
              [
               "#/results/documents/1/entities/0",
               "Course"
              ],
              [
               "#/results/documents/1/entities/2",
               "Condition"
              ]
             ]
            ]
           ],
           [],
           null
          ],
          null,
          "2023-04-01"
         ]
        ],
        [
         9,
         "<PERSON> reported persistent feelings of emptiness and identity disturbance. He is prescribed aripiprazole (5mg <DATE_TIME>). We discussed the importance of mood tracking and established goals for emotional regulation. Next session: <DATE_TIME>.",
         "2023-12-02T00:00:00Z",
         null,
         [
          null,
          [
           "2",
           [
            [
             18,
             10,
             "persistent",
             "Course",
             0.84
            ],
            [
             41,
             9,
             "emptiness",
             "SymptomOrSign",
             0.9
            ],
            [
             55,
             20,
             "identity disturbance",
             "SymptomOrSign",
             0.9
            ],
            [
             94,
             12,
             "aripiprazole",
             "MedicationName",
             1.0
            ],
            [
             108,
             3,
             "5mg",
             "Dosage",
             1.0
            ]
           ],
           [
            [
             "CourseOfCondition",
             [
              [
               "#/results/documents/2/entities/0",
               "Course"
              ],
              [
               "#/results/documents/2/entities/1",
               "Condition"
              ]
             ]
            ],
            [
             "CourseOfCondition",
             [
              [
               "#/results/documents/2/entities/0",
               "Course"
              ],
              [
               "#/results/documents/2/entities/2",
               "Condition"
              ]
             ]
            ],
            [
             "DosageOfMedication",
             [
              [
               "#/results/documents/2/entities/3",
               "Medication"
              ],
              [
               "#/results/documents/2/entities/4",
               "Dosage"
              ]
             ]
            ]
           ],
           [],
           null
          ],
          null,
          "2023-04-01"
         ]
        ],
        [
         7,
         "<PERSON> expressed symptoms of attention deficit hyperactivity disorder (ADHD), including difficulty sustaining attention and impulsivity. He is prescribed methylphenidate (20mg <DATE_TIME>). We discussed behavioral strategies to manage ADHD symptoms. Next session: <DATE_TIME>.",
         "2023-11-25T00:00:00Z",
         null,
         [
          null,
          [
           "0",
           [
            [
             19,
             8,
             "symptoms",
             "SymptomOrSign",
             0.73
            ],
            [
             31,
             40,
             "attention deficit hyperactivity disorder",
             "Diagnosis",
             1.0
            ],
            [
             73,
             4,
             "ADHD",
             "Diagnosis",
             1.0
            ],
            [
             90,
             31,
             "difficulty sustaining attention",
             "SymptomOrSign",
             0.98
            ],
            [
             126,
             11,
             "impulsivity",
             "SymptomOrSign",
             0.98
            ],
            [
             156,
             15,
             "methylphenidate",
             "MedicationName",
             1.0
            ],
            [
             173,
             4,
             "20mg",
             "Dosage",
             1.0
            ],
            [
             205,
             21,
             "behavioral strategies",
             "TreatmentName",
             0.68
            ],
            [
             237,
             4,
             "ADHD",
             "Diagnosis",
             1.0
            ],
            [
             242,
             8,
             "symptoms",
             "SymptomOrSign",
             0.73
            ]
           ],
           [
            [
             "Abbreviation",
             [
              [
               "#/results/documents/0/entities/1",
               "FullTerm"
              ],
              [
               "#/results/documents/0/entities/2",
               "AbbreviatedTerm"
              ]
             ]
            ],
            [
             "Abbreviation",
             [
              [
               "#/results/documents/0/entities/1",
               "FullTerm"
              ],
              [
               "#/results/documents/0/entities/8",
               "AbbreviatedTerm"
              ]
             ]
            ],
            [
             "DosageOfMedication",
             [
              [
               "#/results/documents/0/entities/5",
               "Medication"
              ],
              [
               "#/results/documents/0/entities/6",
               "Dosage"
              ]
             ]
            ]
           ],
           [],
           null
          ],
          null,
          "2023-04-01"
         ]
        ],
        [
         6,
         "<PERSON> reported heightened stress levels due to academic pressures and challenges with time management. She is not currently on medication. We discussed stress reduction techniques and established strategies for improved work-life balance. Follow-up session: <DATE_TIME>.",
         "2023-11-22T00:00:00Z",
         null,
         [
          null,
          [
           "1",
           [
            [
             29,
             6,
             "stress",
             "SymptomOrSign",
             1.0
            ],
            [
             130,
             10,
             "medication",
             "TreatmentName",
             0.96
            ],
            [
             155,
             27,
             "stress reduction techniques",
             "TreatmentName",
             0.9
            ],
            [
             214,
             8,
             "improved",
             "Course",
             0.9
            ],
            [
             242,
             17,
             "Follow-up session",
             "AdministrativeEvent",
             0.88
            ]
           ],
           [],
           [],
           null
          ],
          null,
          "2023-04-01"
         ]
        ],
        [
         3,
         "<PERSON> shared concerns about intrusive thoughts and compulsive behaviors indicative of obsessive-compulsive disorder. He is currently prescribed fluvoxamine (100mg <DATE_TIME>). We discussed cognitive-behavioral strategies to manage obsessive thoughts. A follow-up is scheduled for <DATE_TIME>.",
         "2023-11-10T00:00:00Z",
         null,
         [
          null,
          [
           "0",
           [
            [
             31,
             18,
             "intrusive thoughts",
             "SymptomOrSign",
             0.89
            ],
            [
             54,
             20,
             "compulsive behaviors",
             "SymptomOrSign",
             0.82
            ],
            [
             89,
             29,
             "obsessive-compulsive disorder",
             "Diagnosis",
             1.0
            ],
            [
             147,
             11,
             "fluvoxamine",
             "MedicationName",
             1.0
            ],
            [
             160,
             5,
             "100mg",
             "Dosage",
             1.0
            ],
            [
             193,
             31,
             "cognitive-behavioral strategies",
             "TreatmentName",
             0.86
            ],
            [
             235,
             18,
             "obsessive thoughts",
             "Diagnosis",
             0.62
            ],
            [
             257,
             9,
             "follow-up",
             "AdministrativeEvent",
             0.95
            ]
           ],
           [
            [
             "DosageOfMedication",
             [
              [
               "#/results/documents/0/entities/3",
               "Medication"
              ],
              [
               "#/results/documents/0/entities/4",
               "Dosage"
              ]
             ]
            ]
           ],
           [],
           null
          ],
          null,
          "2023-04-01"
         ]
        ],
        [
         5,
         "<PERSON> described acute anxiety related to social situations, impacting his <DATE_TIME> life. He is currently taking sertraline (50mg <DATE_TIME>). We explored exposure therapy techniques and set goals for gradual desensitization. The next session is scheduled for <DATE_TIME>.",
         "2023-11-18T00:00:00Z",
         null,
         [
          null,
          [
           "1",
           [
            [
             19,
             13,
             "acute anxiety",
             "Diagnosis",
             1.0
            ],
            [
             118,
             10,
             "sertraline",
             "MedicationName",
             1.0
            ],
            [
             130,
             4,
             "50mg",
             "Dosage",
             1.0
            ],
            [
             161,
             27,
             "exposure therapy techniques",
             "TreatmentName",
             0.88
            ],
            [
             207,
             7,
             "gradual",
             "Course",
             0.63
            ],
            [
             215,
             15,
             "desensitization",
             "TreatmentName",
             0.99
            ]
           ],
           [
            [
             "DosageOfMedication",
             [
              [
               "#/results/documents/1/entities/1",
               "Medication"
              ],
              [
               "#/results/documents/1/entities/2",
               "Dosage"
              ]
             ]
            ],
            [
             "CourseOfTreatment",
             [
              [
               "#/results/documents/1/entities/4",
               "Course"
              ],
              [
               "#/results/documents/1/entities/5",
               "Treatment"
              ]
             ]
            ]
           ],
           [],
           null
          ],
          null,
          "2023-04-01"
         ]
        ]
       ],
       "datasetInfos": [],
       "dbfsResultPath": null,
       "isJsonSchema": true,
       "metadata": {},
       "overflow": false,
       "plotOptions": {
        "customPlotOptions": {},
        "displayType": "table",
        "pivotAggregation": null,
        "pivotColumns": null,
        "xColumns": null,
        "yColumns": null
       },
       "removedWidgets": [],
       "schema": [
        {
         "metadata": "{}",
         "name": "NoteID",
         "type": "\"long\""
        },
        {
         "metadata": "{}",
         "name": "NoteText",
         "type": "\"string\""
        },
        {
         "metadata": "{}",
         "name": "AppointmentDate",
         "type": "\"timestamp\""
        },
        {
         "metadata": "{}",
         "name": "AnalyzeHealthText_bcca9d806010_error",
         "type": "{\"type\":\"struct\",\"fields\":[{\"name\":\"response\",\"type\":\"string\",\"nullable\":true,\"metadata\":{}},{\"name\":\"status\",\"type\":{\"type\":\"struct\",\"fields\":[{\"name\":\"protocolVersion\",\"type\":{\"type\":\"struct\",\"fields\":[{\"name\":\"protocol\",\"type\":\"string\",\"nullable\":true,\"metadata\":{}},{\"name\":\"major\",\"type\":\"integer\",\"nullable\":true,\"metadata\":{}},{\"name\":\"minor\",\"type\":\"integer\",\"nullable\":true,\"metadata\":{}}]},\"nullable\":true,\"metadata\":{}},{\"name\":\"statusCode\",\"type\":\"integer\",\"nullable\":true,\"metadata\":{}},{\"name\":\"reasonPhrase\",\"type\":\"string\",\"nullable\":true,\"metadata\":{}}]},\"nullable\":true,\"metadata\":{}}]}"
        },
        {
         "metadata": "{}",
         "name": "NoteText_extracted",
         "type": "{\"type\":\"struct\",\"fields\":[{\"name\":\"statistics\",\"type\":{\"type\":\"struct\",\"fields\":[{\"name\":\"documentsCount\",\"type\":\"integer\",\"nullable\":true,\"metadata\":{}},{\"name\":\"validDocumentsCount\",\"type\":\"integer\",\"nullable\":true,\"metadata\":{}},{\"name\":\"erroneousDocumentsCount\",\"type\":\"integer\",\"nullable\":true,\"metadata\":{}},{\"name\":\"transactionsCount\",\"type\":\"integer\",\"nullable\":true,\"metadata\":{}}]},\"nullable\":true,\"metadata\":{}},{\"name\":\"document\",\"type\":{\"type\":\"struct\",\"fields\":[{\"name\":\"id\",\"type\":\"string\",\"nullable\":true,\"metadata\":{}},{\"name\":\"entities\",\"type\":{\"type\":\"array\",\"elementType\":{\"type\":\"struct\",\"fields\":[{\"name\":\"offset\",\"type\":\"integer\",\"nullable\":true,\"metadata\":{}},{\"name\":\"length\",\"type\":\"integer\",\"nullable\":true,\"metadata\":{}},{\"name\":\"text\",\"type\":\"string\",\"nullable\":true,\"metadata\":{}},{\"name\":\"category\",\"type\":\"string\",\"nullable\":true,\"metadata\":{}},{\"name\":\"confidenceScore\",\"type\":\"double\",\"nullable\":true,\"metadata\":{}}]},\"containsNull\":true},\"nullable\":true,\"metadata\":{}},{\"name\":\"relations\",\"type\":{\"type\":\"array\",\"elementType\":{\"type\":\"struct\",\"fields\":[{\"name\":\"relationType\",\"type\":\"string\",\"nullable\":true,\"metadata\":{}},{\"name\":\"entities\",\"type\":{\"type\":\"array\",\"elementType\":{\"type\":\"struct\",\"fields\":[{\"name\":\"ref\",\"type\":\"string\",\"nullable\":true,\"metadata\":{}},{\"name\":\"role\",\"type\":\"string\",\"nullable\":true,\"metadata\":{}}]},\"containsNull\":true},\"nullable\":true,\"metadata\":{}}]},\"containsNull\":true},\"nullable\":true,\"metadata\":{}},{\"name\":\"warnings\",\"type\":{\"type\":\"array\",\"elementType\":{\"type\":\"struct\",\"fields\":[{\"name\":\"code\",\"type\":\"string\",\"nullable\":true,\"metadata\":{}},{\"name\":\"message\",\"type\":\"string\",\"nullable\":true,\"metadata\":{}},{\"name\":\"targetRef\",\"type\":\"string\",\"nullable\":true,\"metadata\":{}}]},\"containsNull\":true},\"nullable\":true,\"metadata\":{}},{\"name\":\"statistics\",\"type\":{\"type\":\"struct\",\"fields\":[{\"name\":\"charactersCount\",\"type\":\"integer\",\"nullable\":true,\"metadata\":{}},{\"name\":\"transactionsCount\",\"type\":\"integer\",\"nullable\":true,\"metadata\":{}}]},\"nullable\":true,\"metadata\":{}}]},\"nullable\":true,\"metadata\":{}},{\"name\":\"error\",\"type\":{\"type\":\"struct\",\"fields\":[{\"name\":\"id\",\"type\":\"string\",\"nullable\":true,\"metadata\":{}},{\"name\":\"error\",\"type\":\"string\",\"nullable\":true,\"metadata\":{}}]},\"nullable\":true,\"metadata\":{}},{\"name\":\"modelVersion\",\"type\":\"string\",\"nullable\":true,\"metadata\":{}}]}"
        }
       ],
       "type": "table"
      }
     },
     "output_type": "display_data"
    }
   ],
   "source": [
    "df = read_table(table_name, \"gold\")\n",
    "display(df)"
   ]
  },
  {
   "cell_type": "markdown",
   "metadata": {
    "application/vnd.databricks.v1+cell": {
     "cellMetadata": {},
     "inputWidgets": {},
     "nuid": "33911802-9a4a-4a63-8c30-7e3b4007e97c",
     "showTitle": false,
     "title": ""
    }
   },
   "source": [
    "You can also check table history, like done below"
   ]
  },
  {
   "cell_type": "code",
   "execution_count": 0,
   "metadata": {
    "application/vnd.databricks.v1+cell": {
     "cellMetadata": {
      "byteLimit": 2048000,
      "rowLimit": 10000
     },
     "inputWidgets": {},
     "nuid": "9fd7331e-e832-4c4c-b742-f6ee1ba5c1ed",
     "showTitle": false,
     "title": ""
    }
   },
   "outputs": [
    {
     "output_type": "display_data",
     "data": {
      "text/html": [
       "<style scoped>\n",
       "  .table-result-container {\n",
       "    max-height: 300px;\n",
       "    overflow: auto;\n",
       "  }\n",
       "  table, th, td {\n",
       "    border: 1px solid black;\n",
       "    border-collapse: collapse;\n",
       "  }\n",
       "  th, td {\n",
       "    padding: 5px;\n",
       "  }\n",
       "  th {\n",
       "    text-align: left;\n",
       "  }\n",
       "</style><div class='table-result-container'><table class='table-result'><thead style='background-color: white'><tr><th>version</th><th>timestamp</th><th>userId</th><th>userName</th><th>operation</th><th>operationParameters</th><th>job</th><th>notebook</th><th>clusterId</th><th>readVersion</th><th>isolationLevel</th><th>isBlindAppend</th><th>operationMetrics</th><th>userMetadata</th><th>engineInfo</th></tr></thead><tbody><tr><td>2</td><td>2023-11-02T16:05:11Z</td><td>3929536096574620</td><td>79302ad7-a448-40dd-a0fd-ed776012af4b</td><td>MERGE</td><td>Map(predicate -> [\"(NoteID#748L = NoteID#320L)\"], matchedPredicates -> [], statsOnLoad -> false, notMatchedBySourcePredicates -> [], notMatchedPredicates -> [{\"actionType\":\"insert\"}])</td><td>List(481463139130891, ADF_adf-tbdc0-dev_PatientNotesPipeline_PseudonymisationActivity_b3bc7b5c-2f48-4606-8b58-c6b90409be0f, null, 992140386478951, 3929536096574620, manual)</td><td>null</td><td>1025-001910-dtqy2seg</td><td>1</td><td>WriteSerializable</td><td>false</td><td>Map(numTargetRowsCopied -> 0, numTargetRowsDeleted -> 0, numTargetFilesAdded -> 1, numTargetBytesAdded -> 2541, numTargetBytesRemoved -> 0, numTargetDeletionVectorsAdded -> 0, numTargetRowsMatchedUpdated -> 0, executionTimeMs -> 38082, numTargetRowsInserted -> 1, numTargetRowsMatchedDeleted -> 0, scanTimeMs -> 0, numTargetRowsUpdated -> 0, numOutputRows -> 1, numTargetDeletionVectorsRemoved -> 0, numTargetRowsNotMatchedBySourceUpdated -> 0, numTargetChangeFilesAdded -> 0, numSourceRows -> 1, numTargetFilesRemoved -> 0, numTargetRowsNotMatchedBySourceDeleted -> 0, rewriteTimeMs -> 38058)</td><td>null</td><td>Databricks-Runtime/13.3.x-scala2.12</td></tr><tr><td>1</td><td>2023-11-02T16:04:29Z</td><td>3929536096574620</td><td>79302ad7-a448-40dd-a0fd-ed776012af4b</td><td>MERGE</td><td>Map(predicate -> [\"(NoteID#748L = NoteID#320L)\"], matchedPredicates -> [{\"actionType\":\"delete\"}], statsOnLoad -> false, notMatchedBySourcePredicates -> [], notMatchedPredicates -> [])</td><td>List(481463139130891, ADF_adf-tbdc0-dev_PatientNotesPipeline_PseudonymisationActivity_b3bc7b5c-2f48-4606-8b58-c6b90409be0f, null, 992140386478951, 3929536096574620, manual)</td><td>null</td><td>1025-001910-dtqy2seg</td><td>0</td><td>WriteSerializable</td><td>false</td><td>Map(numTargetRowsCopied -> 0, numTargetRowsDeleted -> 0, numTargetFilesAdded -> 0, numTargetBytesAdded -> 0, numTargetBytesRemoved -> 0, numTargetDeletionVectorsAdded -> 0, numTargetRowsMatchedUpdated -> 0, executionTimeMs -> 10668, numTargetRowsInserted -> 0, numTargetRowsMatchedDeleted -> 0, scanTimeMs -> 3142, numTargetRowsUpdated -> 0, numOutputRows -> 0, numTargetDeletionVectorsRemoved -> 0, numTargetRowsNotMatchedBySourceUpdated -> 0, numTargetChangeFilesAdded -> 0, numSourceRows -> 0, numTargetFilesRemoved -> 0, numTargetRowsNotMatchedBySourceDeleted -> 0, rewriteTimeMs -> 0)</td><td>null</td><td>Databricks-Runtime/13.3.x-scala2.12</td></tr><tr><td>0</td><td>2023-10-25T17:35:52Z</td><td>3929536096574620</td><td>79302ad7-a448-40dd-a0fd-ed776012af4b</td><td>WRITE</td><td>Map(mode -> ErrorIfExists, statsOnLoad -> false, partitionBy -> [])</td><td>List(792125171179599, ADF_adf-tbdc0-dev_PatientNotesPipeline_PseudonymisationActivity_6c131e32-586b-4c79-aad9-c992d88e2b52, null, 247033079801813, 3929536096574620, manual)</td><td>null</td><td>1025-001910-dtqy2seg</td><td>null</td><td>WriteSerializable</td><td>true</td><td>Map(numFiles -> 8, numOutputRows -> 10, numOutputBytes -> 20437)</td><td>null</td><td>Databricks-Runtime/13.3.x-scala2.12</td></tr></tbody></table></div>"
      ]
     },
     "metadata": {
      "application/vnd.databricks.v1+output": {
       "addedWidgets": {},
       "aggData": [],
       "aggError": "",
       "aggOverflow": false,
       "aggSchema": [],
       "aggSeriesLimitReached": false,
       "aggType": "",
       "arguments": {},
       "columnCustomDisplayInfos": {},
       "data": [
        [
         2,
         "2023-11-02T16:05:11Z",
         "3929536096574620",
         "79302ad7-a448-40dd-a0fd-ed776012af4b",
         "MERGE",
         {
          "matchedPredicates": "[]",
          "notMatchedBySourcePredicates": "[]",
          "notMatchedPredicates": "[{\"actionType\":\"insert\"}]",
          "predicate": "[\"(NoteID#748L = NoteID#320L)\"]",
          "statsOnLoad": "false"
         },
         [
          "481463139130891",
          "ADF_adf-tbdc0-dev_PatientNotesPipeline_PseudonymisationActivity_b3bc7b5c-2f48-4606-8b58-c6b90409be0f",
          null,
          "992140386478951",
          "3929536096574620",
          "manual"
         ],
         null,
         "1025-001910-dtqy2seg",
         1,
         "WriteSerializable",
         false,
         {
          "executionTimeMs": "38082",
          "numOutputRows": "1",
          "numSourceRows": "1",
          "numTargetBytesAdded": "2541",
          "numTargetBytesRemoved": "0",
          "numTargetChangeFilesAdded": "0",
          "numTargetDeletionVectorsAdded": "0",
          "numTargetDeletionVectorsRemoved": "0",
          "numTargetFilesAdded": "1",
          "numTargetFilesRemoved": "0",
          "numTargetRowsCopied": "0",
          "numTargetRowsDeleted": "0",
          "numTargetRowsInserted": "1",
          "numTargetRowsMatchedDeleted": "0",
          "numTargetRowsMatchedUpdated": "0",
          "numTargetRowsNotMatchedBySourceDeleted": "0",
          "numTargetRowsNotMatchedBySourceUpdated": "0",
          "numTargetRowsUpdated": "0",
          "rewriteTimeMs": "38058",
          "scanTimeMs": "0"
         },
         null,
         "Databricks-Runtime/13.3.x-scala2.12"
        ],
        [
         1,
         "2023-11-02T16:04:29Z",
         "3929536096574620",
         "79302ad7-a448-40dd-a0fd-ed776012af4b",
         "MERGE",
         {
          "matchedPredicates": "[{\"actionType\":\"delete\"}]",
          "notMatchedBySourcePredicates": "[]",
          "notMatchedPredicates": "[]",
          "predicate": "[\"(NoteID#748L = NoteID#320L)\"]",
          "statsOnLoad": "false"
         },
         [
          "481463139130891",
          "ADF_adf-tbdc0-dev_PatientNotesPipeline_PseudonymisationActivity_b3bc7b5c-2f48-4606-8b58-c6b90409be0f",
          null,
          "992140386478951",
          "3929536096574620",
          "manual"
         ],
         null,
         "1025-001910-dtqy2seg",
         0,
         "WriteSerializable",
         false,
         {
          "executionTimeMs": "10668",
          "numOutputRows": "0",
          "numSourceRows": "0",
          "numTargetBytesAdded": "0",
          "numTargetBytesRemoved": "0",
          "numTargetChangeFilesAdded": "0",
          "numTargetDeletionVectorsAdded": "0",
          "numTargetDeletionVectorsRemoved": "0",
          "numTargetFilesAdded": "0",
          "numTargetFilesRemoved": "0",
          "numTargetRowsCopied": "0",
          "numTargetRowsDeleted": "0",
          "numTargetRowsInserted": "0",
          "numTargetRowsMatchedDeleted": "0",
          "numTargetRowsMatchedUpdated": "0",
          "numTargetRowsNotMatchedBySourceDeleted": "0",
          "numTargetRowsNotMatchedBySourceUpdated": "0",
          "numTargetRowsUpdated": "0",
          "rewriteTimeMs": "0",
          "scanTimeMs": "3142"
         },
         null,
         "Databricks-Runtime/13.3.x-scala2.12"
        ],
        [
         0,
         "2023-10-25T17:35:52Z",
         "3929536096574620",
         "79302ad7-a448-40dd-a0fd-ed776012af4b",
         "WRITE",
         {
          "mode": "ErrorIfExists",
          "partitionBy": "[]",
          "statsOnLoad": "false"
         },
         [
          "792125171179599",
          "ADF_adf-tbdc0-dev_PatientNotesPipeline_PseudonymisationActivity_6c131e32-586b-4c79-aad9-c992d88e2b52",
          null,
          "247033079801813",
          "3929536096574620",
          "manual"
         ],
         null,
         "1025-001910-dtqy2seg",
         null,
         "WriteSerializable",
         true,
         {
          "numFiles": "8",
          "numOutputBytes": "20437",
          "numOutputRows": "10"
         },
         null,
         "Databricks-Runtime/13.3.x-scala2.12"
        ]
       ],
       "datasetInfos": [],
       "dbfsResultPath": null,
       "isJsonSchema": true,
       "metadata": {},
       "overflow": false,
       "plotOptions": {
        "customPlotOptions": {},
        "displayType": "table",
        "pivotAggregation": null,
        "pivotColumns": null,
        "xColumns": null,
        "yColumns": null
       },
       "removedWidgets": [],
       "schema": [
        {
         "metadata": "{}",
         "name": "version",
         "type": "\"long\""
        },
        {
         "metadata": "{}",
         "name": "timestamp",
         "type": "\"timestamp\""
        },
        {
         "metadata": "{}",
         "name": "userId",
         "type": "\"string\""
        },
        {
         "metadata": "{}",
         "name": "userName",
         "type": "\"string\""
        },
        {
         "metadata": "{}",
         "name": "operation",
         "type": "\"string\""
        },
        {
         "metadata": "{}",
         "name": "operationParameters",
         "type": "{\"type\":\"map\",\"keyType\":\"string\",\"valueType\":\"string\",\"valueContainsNull\":true}"
        },
        {
         "metadata": "{}",
         "name": "job",
         "type": "{\"type\":\"struct\",\"fields\":[{\"name\":\"jobId\",\"type\":\"string\",\"nullable\":true,\"metadata\":{}},{\"name\":\"jobName\",\"type\":\"string\",\"nullable\":true,\"metadata\":{}},{\"name\":\"jobRunId\",\"type\":\"string\",\"nullable\":true,\"metadata\":{}},{\"name\":\"runId\",\"type\":\"string\",\"nullable\":true,\"metadata\":{}},{\"name\":\"jobOwnerId\",\"type\":\"string\",\"nullable\":true,\"metadata\":{}},{\"name\":\"triggerType\",\"type\":\"string\",\"nullable\":true,\"metadata\":{}}]}"
        },
        {
         "metadata": "{}",
         "name": "notebook",
         "type": "{\"type\":\"struct\",\"fields\":[{\"name\":\"notebookId\",\"type\":\"string\",\"nullable\":true,\"metadata\":{}}]}"
        },
        {
         "metadata": "{}",
         "name": "clusterId",
         "type": "\"string\""
        },
        {
         "metadata": "{}",
         "name": "readVersion",
         "type": "\"long\""
        },
        {
         "metadata": "{}",
         "name": "isolationLevel",
         "type": "\"string\""
        },
        {
         "metadata": "{}",
         "name": "isBlindAppend",
         "type": "\"boolean\""
        },
        {
         "metadata": "{}",
         "name": "operationMetrics",
         "type": "{\"type\":\"map\",\"keyType\":\"string\",\"valueType\":\"string\",\"valueContainsNull\":true}"
        },
        {
         "metadata": "{}",
         "name": "userMetadata",
         "type": "\"string\""
        },
        {
         "metadata": "{}",
         "name": "engineInfo",
         "type": "\"string\""
        }
       ],
       "type": "table"
      }
     },
     "output_type": "display_data"
    }
   ],
   "source": [
    "layer = \"silver\"  # Replace with \"silver\" or \"bronze\" to check other layers\n",
    "\n",
    "path = f\"abfss://{layer}@{spark.conf.get('spark.secret.datalake-uri')}/{table_name}\"\n",
    "display(DeltaTable.forPath(spark, path).history())"
   ]
  },
  {
   "cell_type": "markdown",
   "metadata": {
    "application/vnd.databricks.v1+cell": {
     "cellMetadata": {},
     "inputWidgets": {},
     "nuid": "70b61e35-149d-41e4-9898-d0352940d1d0",
     "showTitle": false,
     "title": ""
    }
   },
   "source": [
    "## Inserting an update into the table\n",
    "\n",
    "Now let's insert a new row to the table, and delete an existing one.\n",
    "\n",
    "Note that in this pipeline, the updates are not being processed. (If you try to update a row, the pipeline will fail.)\n",
    "\n",
    "This is because for large volumes of text, it is going to be expensive to determine which rows have updated, if the updated rows have the same primary keys as the rows already existing in the table.\n",
    "\n",
    "Thus, we are assuming that each table update is either inserting a new Primary key, or removing a primary key."
   ]
  },
  {
   "cell_type": "code",
   "execution_count": 0,
   "metadata": {
    "application/vnd.databricks.v1+cell": {
     "cellMetadata": {
      "byteLimit": 2048000,
      "rowLimit": 10000
     },
     "inputWidgets": {},
     "nuid": "4dc0b203-1df6-4785-8ec6-facf5fc5be5e",
     "showTitle": false,
     "title": ""
    }
   },
   "outputs": [
    {
     "output_type": "display_data",
     "data": {
      "text/html": [
       "<style scoped>\n",
       "  .table-result-container {\n",
       "    max-height: 300px;\n",
       "    overflow: auto;\n",
       "  }\n",
       "  table, th, td {\n",
       "    border: 1px solid black;\n",
       "    border-collapse: collapse;\n",
       "  }\n",
       "  th, td {\n",
       "    padding: 5px;\n",
       "  }\n",
       "  th {\n",
       "    text-align: left;\n",
       "  }\n",
       "</style><div class='table-result-container'><table class='table-result'><thead style='background-color: white'><tr><th>NoteID</th><th>NoteText</th><th>UserID</th><th>AppointmentDate</th></tr></thead><tbody><tr><td>11</td><td>Mia described symptoms of insomnia and racing thoughts, suggesting generalized anxiety. She is currently not taking any medication. We explored sleep hygiene practices and relaxation techniques. A follow-up appointment is scheduled for December 29, 2023.</td><td>548290</td><td>2023-12-15</td></tr></tbody></table></div>"
      ]
     },
     "metadata": {
      "application/vnd.databricks.v1+output": {
       "addedWidgets": {},
       "aggData": [],
       "aggError": "",
       "aggOverflow": false,
       "aggSchema": [],
       "aggSeriesLimitReached": false,
       "aggType": "",
       "arguments": {},
       "columnCustomDisplayInfos": {},
       "data": [
        [
         11,
         "Mia described symptoms of insomnia and racing thoughts, suggesting generalized anxiety. She is currently not taking any medication. We explored sleep hygiene practices and relaxation techniques. A follow-up appointment is scheduled for December 29, 2023.",
         548290,
         "2023-12-15"
        ]
       ],
       "datasetInfos": [],
       "dbfsResultPath": null,
       "isJsonSchema": true,
       "metadata": {},
       "overflow": false,
       "plotOptions": {
        "customPlotOptions": {},
        "displayType": "table",
        "pivotAggregation": null,
        "pivotColumns": null,
        "xColumns": null,
        "yColumns": null
       },
       "removedWidgets": [],
       "schema": [
        {
         "metadata": "{}",
         "name": "NoteID",
         "type": "\"long\""
        },
        {
         "metadata": "{}",
         "name": "NoteText",
         "type": "\"string\""
        },
        {
         "metadata": "{}",
         "name": "UserID",
         "type": "\"long\""
        },
        {
         "metadata": "{}",
         "name": "AppointmentDate",
         "type": "\"string\""
        }
       ],
       "type": "table"
      }
     },
     "output_type": "display_data"
    }
   ],
   "source": [
    "\n",
    "\n",
    "update_df = spark.createDataFrame(\n",
    "    [\n",
    "        (\n",
    "            11,\n",
    "            (\n",
    "                \"Mia described symptoms of insomnia and racing thoughts, suggesting generalized anxiety. She is currently not taking any medication. We explored sleep hygiene practices and relaxation techniques. A follow-up appointment is scheduled for December 29, 2023.\"\n",
    "            ),\n",
    "            548290,\n",
    "            \"2023-12-15\"\n",
    "        )\n",
    "    ],\n",
    "    [\"NoteID\", \"NoteText\", \"UserID\", \"AppointmentDate\"]\n",
    ")\n",
    "\n",
    "display(update_df)"
   ]
  },
  {
   "cell_type": "code",
   "execution_count": 0,
   "metadata": {
    "application/vnd.databricks.v1+cell": {
     "cellMetadata": {
      "byteLimit": 2048000,
      "rowLimit": 10000
     },
     "inputWidgets": {},
     "nuid": "334acfa4-dd96-4142-8ba5-c39c20d46b26",
     "showTitle": false,
     "title": ""
    }
   },
   "outputs": [],
   "source": [
    "path = f\"abfss://bronze@{spark.conf.get('spark.secret.datalake-uri')}/{table_name}\"\n",
    "delta_table = DeltaTable.forPath(spark, path)\n",
    "delta_table.alias(\"target\").merge(\n",
    "    source=update_df.alias(\"source\"),\n",
    "    condition=\"source.NoteID = target.NoteID\"\n",
    ").whenNotMatchedInsertAll().execute()"
   ]
  },
  {
   "cell_type": "markdown",
   "metadata": {
    "application/vnd.databricks.v1+cell": {
     "cellMetadata": {},
     "inputWidgets": {},
     "nuid": "cbff5b4a-f2a5-4da5-ba28-a28a592b8027",
     "showTitle": false,
     "title": ""
    }
   },
   "source": [
    "Now you can re-trigger the pipeline again.\n",
    "After you've done that, you can check in the logs how many rows have been processed in Silver and Gold pipeline."
   ]
  },
  {
   "cell_type": "markdown",
   "metadata": {
    "application/vnd.databricks.v1+cell": {
     "cellMetadata": {},
     "inputWidgets": {},
     "nuid": "cf7b5f24-63c2-4ac4-ba2e-c734827b79e7",
     "showTitle": false,
     "title": ""
    }
   },
   "source": [
    "## Querying data in the Gold store\n",
    "\n",
    "The final result of the pipeline can be accessed through a Managed table in Unity Catalog.\n",
    "\n",
    "You can query data through SQL statement in a notebook, like so:"
   ]
  },
  {
   "cell_type": "code",
   "execution_count": 0,
   "metadata": {
    "application/vnd.databricks.v1+cell": {
     "cellMetadata": {
      "byteLimit": 2048000,
      "implicitDf": true,
      "rowLimit": 10000
     },
     "inputWidgets": {},
     "nuid": "e9e46c78-e078-4139-a86a-26402686e627",
     "showTitle": false,
     "title": ""
    }
   },
   "outputs": [
    {
     "output_type": "display_data",
     "data": {
      "text/html": [
       "<style scoped>\n",
       "  .table-result-container {\n",
       "    max-height: 300px;\n",
       "    overflow: auto;\n",
       "  }\n",
       "  table, th, td {\n",
       "    border: 1px solid black;\n",
       "    border-collapse: collapse;\n",
       "  }\n",
       "  th, td {\n",
       "    padding: 5px;\n",
       "  }\n",
       "  th {\n",
       "    text-align: left;\n",
       "  }\n",
       "</style><div class='table-result-container'><table class='table-result'><thead style='background-color: white'><tr><th>NoteID</th><th>NoteText</th><th>AppointmentDate</th><th>AnalyzeHealthText_bcca9d806010_error</th><th>NoteText_extracted</th></tr></thead><tbody><tr><td>1</td><td><PERSON> appeared agitated during <DATE_TIME>'s session, reporting heightened irritability and difficulty focusing at work. He shared concerns about persistent insomnia and a sense of impending doom. <PERSON> is currently prescribed lorazepam (1mg as needed) for anxiety management, and we discussed incorporating relaxation techniques into his <DATE_TIME> routine. A follow-up session is scheduled for <DATE_TIME>.</td><td>2023-11-05T00:00:00Z</td><td>null</td><td>List(null, List(1, List(List(18, 8, agitated, SymptomOrSign, 0.97), List(67, 10, heightened, ConditionQualifier, 0.95), List(78, 12, irritability, SymptomOrSign, 0.98), List(95, 27, difficulty focusing at work, SymptomOrSign, 0.88), List(149, 19, persistent insomnia, Diagnosis, 1.0), List(233, 9, lorazepam, MedicationName, 1.0), List(244, 3, 1mg, Dosage, 1.0), List(248, 9, as needed, Frequency, 0.99), List(263, 18, anxiety management, TreatmentName, 0.85), List(314, 21, relaxation techniques, TreatmentName, 0.93), List(368, 17, follow-up session, AdministrativeEvent, 0.93)), List(List(QualifierOfCondition, List(List(#/results/documents/1/entities/1, Qualifier), List(#/results/documents/1/entities/2, Condition))), List(QualifierOfCondition, List(List(#/results/documents/1/entities/1, Qualifier), List(#/results/documents/1/entities/3, Condition))), List(DosageOfMedication, List(List(#/results/documents/1/entities/5, Medication), List(#/results/documents/1/entities/6, Dosage))), List(FrequencyOfMedication, List(List(#/results/documents/1/entities/5, Medication), List(#/results/documents/1/entities/7, Frequency)))), List(), null), null, 2023-04-01)</td></tr><tr><td>2</td><td><PERSON> conveyed a persistent low mood and feelings of guilt related to a recent personal loss. She described disruptions in her sleep pattern and appetite. <PERSON> is not currently taking any medications. We explored grief coping strategies and established a plan for ongoing support. Next session: <DATE_TIME>.</td><td>2023-11-08T00:00:00Z</td><td>null</td><td>List(null, List(1, List(List(20, 10, persistent, Course, 0.64), List(31, 8, low mood, SymptomOrSign, 0.98), List(44, 17, feelings of guilt, SymptomOrSign, 0.71), List(111, 32, disruptions in her sleep pattern, SymptomOrSign, 0.99), List(148, 8, appetite, SymptomOrSign, 1.0), List(195, 11, medications, TreatmentName, 0.97), List(220, 23, grief coping strategies, TreatmentName, 0.66)), List(List(CourseOfCondition, List(List(#/results/documents/1/entities/0, Course), List(#/results/documents/1/entities/1, Condition))), List(CourseOfCondition, List(List(#/results/documents/1/entities/0, Course), List(#/results/documents/1/entities/2, Condition)))), List(), null), null, 2023-04-01)</td></tr><tr><td>3</td><td><PERSON> shared concerns about intrusive thoughts and compulsive behaviors indicative of obsessive-compulsive disorder. He is currently prescribed fluvoxamine (100mg <DATE_TIME>). We discussed cognitive-behavioral strategies to manage obsessive thoughts. A follow-up is scheduled for <DATE_TIME>.</td><td>2023-11-10T00:00:00Z</td><td>null</td><td>List(null, List(0, List(List(31, 18, intrusive thoughts, SymptomOrSign, 0.89), List(54, 20, compulsive behaviors, SymptomOrSign, 0.82), List(89, 29, obsessive-compulsive disorder, Diagnosis, 1.0), List(147, 11, fluvoxamine, MedicationName, 1.0), List(160, 5, 100mg, Dosage, 1.0), List(193, 31, cognitive-behavioral strategies, TreatmentName, 0.86), List(235, 18, obsessive thoughts, Diagnosis, 0.62), List(257, 9, follow-up, AdministrativeEvent, 0.95)), List(List(DosageOfMedication, List(List(#/results/documents/0/entities/3, Medication), List(#/results/documents/0/entities/4, Dosage)))), List(), null), null, 2023-04-01)</td></tr><tr><td>4</td><td><PERSON> expressed feelings of overwhelming sadness and loss of interest in activities she once enjoyed. She is prescribed escitalopram (10mg <DATE_TIME>) for depression. We discussed the importance of self-care and scheduled a follow-up for <DATE_TIME>.</td><td>2023-11-15T00:00:00Z</td><td>null</td><td>List(null, List(2, List(List(31, 12, overwhelming, ConditionQualifier, 0.65), List(44, 7, sadness, SymptomOrSign, 0.86), List(56, 4, loss, SymptomOrSign, 0.72), List(123, 12, escitalopram, MedicationName, 1.0), List(137, 4, 10mg, Dosage, 1.0), List(159, 10, depression, Diagnosis, 0.97), List(228, 9, follow-up, AdministrativeEvent, 0.92)), List(List(QualifierOfCondition, List(List(#/results/documents/2/entities/0, Qualifier), List(#/results/documents/2/entities/1, Condition))), List(QualifierOfCondition, List(List(#/results/documents/2/entities/0, Qualifier), List(#/results/documents/2/entities/2, Condition))), List(DosageOfMedication, List(List(#/results/documents/2/entities/3, Medication), List(#/results/documents/2/entities/4, Dosage)))), List(), null), null, 2023-04-01)</td></tr><tr><td>5</td><td><PERSON> described acute anxiety related to social situations, impacting his <DATE_TIME> life. He is currently taking sertraline (50mg <DATE_TIME>). We explored exposure therapy techniques and set goals for gradual desensitization. The next session is scheduled for <DATE_TIME>.</td><td>2023-11-18T00:00:00Z</td><td>null</td><td>List(null, List(1, List(List(19, 13, acute anxiety, Diagnosis, 1.0), List(118, 10, sertraline, MedicationName, 1.0), List(130, 4, 50mg, Dosage, 1.0), List(161, 27, exposure therapy techniques, TreatmentName, 0.88), List(207, 7, gradual, Course, 0.63), List(215, 15, desensitization, TreatmentName, 0.99)), List(List(DosageOfMedication, List(List(#/results/documents/1/entities/1, Medication), List(#/results/documents/1/entities/2, Dosage))), List(CourseOfTreatment, List(List(#/results/documents/1/entities/4, Course), List(#/results/documents/1/entities/5, Treatment)))), List(), null), null, 2023-04-01)</td></tr><tr><td>6</td><td><PERSON> reported heightened stress levels due to academic pressures and challenges with time management. She is not currently on medication. We discussed stress reduction techniques and established strategies for improved work-life balance. Follow-up session: <DATE_TIME>.</td><td>2023-11-22T00:00:00Z</td><td>null</td><td>List(null, List(1, List(List(29, 6, stress, SymptomOrSign, 1.0), List(130, 10, medication, TreatmentName, 0.96), List(155, 27, stress reduction techniques, TreatmentName, 0.9), List(214, 8, improved, Course, 0.9), List(242, 17, Follow-up session, AdministrativeEvent, 0.88)), List(), List(), null), null, 2023-04-01)</td></tr><tr><td>7</td><td><PERSON> expressed symptoms of attention deficit hyperactivity disorder (ADHD), including difficulty sustaining attention and impulsivity. He is prescribed methylphenidate (20mg <DATE_TIME>). We discussed behavioral strategies to manage ADHD symptoms. Next session: <DATE_TIME>.</td><td>2023-11-25T00:00:00Z</td><td>null</td><td>List(null, List(0, List(List(19, 8, symptoms, SymptomOrSign, 0.73), List(31, 40, attention deficit hyperactivity disorder, Diagnosis, 1.0), List(73, 4, ADHD, Diagnosis, 1.0), List(90, 31, difficulty sustaining attention, SymptomOrSign, 0.98), List(126, 11, impulsivity, SymptomOrSign, 0.98), List(156, 15, methylphenidate, MedicationName, 1.0), List(173, 4, 20mg, Dosage, 1.0), List(205, 21, behavioral strategies, TreatmentName, 0.68), List(237, 4, ADHD, Diagnosis, 1.0), List(242, 8, symptoms, SymptomOrSign, 0.73)), List(List(Abbreviation, List(List(#/results/documents/0/entities/1, FullTerm), List(#/results/documents/0/entities/2, AbbreviatedTerm))), List(Abbreviation, List(List(#/results/documents/0/entities/1, FullTerm), List(#/results/documents/0/entities/8, AbbreviatedTerm))), List(DosageOfMedication, List(List(#/results/documents/0/entities/5, Medication), List(#/results/documents/0/entities/6, Dosage)))), List(), null), null, 2023-04-01)</td></tr><tr><td>8</td><td><PERSON> shared concerns about recurrent panic attacks, particularly in crowded spaces. She is prescribed clonazepam (0.5mg as needed). We discussed breathing exercises and exposure therapy. Follow-up scheduled for <DATE_TIME>, <DATE_TIME></td><td>2023-11-29T00:00:00Z</td><td>null</td><td>List(null, List(0, List(List(31, 9, recurrent, Course, 0.97), List(41, 13, panic attacks, Diagnosis, 1.0), List(106, 10, clonazepam, MedicationName, 1.0), List(118, 5, 0.5mg, Dosage, 1.0), List(124, 9, as needed, Frequency, 0.97), List(149, 19, breathing exercises, TreatmentName, 0.99), List(173, 16, exposure therapy, TreatmentName, 1.0), List(191, 9, Follow-up, AdministrativeEvent, 0.94)), List(List(CourseOfCondition, List(List(#/results/documents/0/entities/0, Course), List(#/results/documents/0/entities/1, Condition))), List(DosageOfMedication, List(List(#/results/documents/0/entities/2, Medication), List(#/results/documents/0/entities/3, Dosage))), List(FrequencyOfMedication, List(List(#/results/documents/0/entities/2, Medication), List(#/results/documents/0/entities/4, Frequency)))), List(), null), null, 2023-04-01)</td></tr><tr><td>9</td><td><PERSON> reported persistent feelings of emptiness and identity disturbance. He is prescribed aripiprazole (5mg <DATE_TIME>). We discussed the importance of mood tracking and established goals for emotional regulation. Next session: <DATE_TIME>.</td><td>2023-12-02T00:00:00Z</td><td>null</td><td>List(null, List(2, List(List(18, 10, persistent, Course, 0.84), List(41, 9, emptiness, SymptomOrSign, 0.9), List(55, 20, identity disturbance, SymptomOrSign, 0.9), List(94, 12, aripiprazole, MedicationName, 1.0), List(108, 3, 5mg, Dosage, 1.0)), List(List(CourseOfCondition, List(List(#/results/documents/2/entities/0, Course), List(#/results/documents/2/entities/1, Condition))), List(CourseOfCondition, List(List(#/results/documents/2/entities/0, Course), List(#/results/documents/2/entities/2, Condition))), List(DosageOfMedication, List(List(#/results/documents/2/entities/3, Medication), List(#/results/documents/2/entities/4, Dosage)))), List(), null), null, 2023-04-01)</td></tr><tr><td>10</td><td><PERSON> discussed challenges with impulse control and emotional dysregulation. She is currently prescribed lamotrigine (50mg <DATE_TIME>). We explored dialectical behavior therapy (DBT) skills to enhance emotion regulation. Follow-up scheduled for <DATE_TIME>.</td><td>2023-12-05T00:00:00Z</td><td>null</td><td>List(null, List(0, List(List(108, 11, lamotrigine, MedicationName, 1.0), List(121, 4, 50mg, Dosage, 1.0), List(152, 28, dialectical behavior therapy, TreatmentName, 0.97), List(182, 3, DBT, TreatmentName, 0.97), List(205, 18, emotion regulation, TreatmentName, 0.72), List(225, 9, Follow-up, AdministrativeEvent, 0.94)), List(List(DosageOfMedication, List(List(#/results/documents/0/entities/0, Medication), List(#/results/documents/0/entities/1, Dosage))), List(Abbreviation, List(List(#/results/documents/0/entities/2, FullTerm), List(#/results/documents/0/entities/3, AbbreviatedTerm)))), List(), null), null, 2023-04-01)</td></tr><tr><td>11</td><td><PERSON> described symptoms of insomnia and racing thoughts, suggesting generalized anxiety. She is currently not taking any medication. We explored sleep hygiene practices and relaxation techniques. A follow-up appointment is scheduled for <DATE_TIME>.</td><td>2023-12-15T00:00:00Z</td><td>null</td><td>List(null, List(0, List(List(31, 8, insomnia, SymptomOrSign, 0.94), List(44, 15, racing thoughts, SymptomOrSign, 1.0), List(72, 19, generalized anxiety, Diagnosis, 0.71), List(125, 10, medication, TreatmentName, 0.98), List(149, 23, sleep hygiene practices, TreatmentName, 0.79), List(177, 21, relaxation techniques, TreatmentName, 0.95), List(202, 21, follow-up appointment, AdministrativeEvent, 0.98)), List(), List(), null), null, 2023-04-01)</td></tr></tbody></table></div>"
      ]
     },
     "metadata": {
      "application/vnd.databricks.v1+output": {
       "addedWidgets": {},
       "aggData": [],
       "aggError": "",
       "aggOverflow": false,
       "aggSchema": [],
       "aggSeriesLimitReached": false,
       "aggType": "",
       "arguments": {},
       "columnCustomDisplayInfos": {},
       "data": [
        [
         1,
         "<PERSON> appeared agitated during <DATE_TIME>'s session, reporting heightened irritability and difficulty focusing at work. He shared concerns about persistent insomnia and a sense of impending doom. <PERSON> is currently prescribed lorazepam (1mg as needed) for anxiety management, and we discussed incorporating relaxation techniques into his <DATE_TIME> routine. A follow-up session is scheduled for <DATE_TIME>.",
         "2023-11-05T00:00:00Z",
         null,
         [
          null,
          [
           "1",
           [
            [
             18,
             8,
             "agitated",
             "SymptomOrSign",
             0.97
            ],
            [
             67,
             10,
             "heightened",
             "ConditionQualifier",
             0.95
            ],
            [
             78,
             12,
             "irritability",
             "SymptomOrSign",
             0.98
            ],
            [
             95,
             27,
             "difficulty focusing at work",
             "SymptomOrSign",
             0.88
            ],
            [
             149,
             19,
             "persistent insomnia",
             "Diagnosis",
             1.0
            ],
            [
             233,
             9,
             "lorazepam",
             "MedicationName",
             1.0
            ],
            [
             244,
             3,
             "1mg",
             "Dosage",
             1.0
            ],
            [
             248,
             9,
             "as needed",
             "Frequency",
             0.99
            ],
            [
             263,
             18,
             "anxiety management",
             "TreatmentName",
             0.85
            ],
            [
             314,
             21,
             "relaxation techniques",
             "TreatmentName",
             0.93
            ],
            [
             368,
             17,
             "follow-up session",
             "AdministrativeEvent",
             0.93
            ]
           ],
           [
            [
             "QualifierOfCondition",
             [
              [
               "#/results/documents/1/entities/1",
               "Qualifier"
              ],
              [
               "#/results/documents/1/entities/2",
               "Condition"
              ]
             ]
            ],
            [
             "QualifierOfCondition",
             [
              [
               "#/results/documents/1/entities/1",
               "Qualifier"
              ],
              [
               "#/results/documents/1/entities/3",
               "Condition"
              ]
             ]
            ],
            [
             "DosageOfMedication",
             [
              [
               "#/results/documents/1/entities/5",
               "Medication"
              ],
              [
               "#/results/documents/1/entities/6",
               "Dosage"
              ]
             ]
            ],
            [
             "FrequencyOfMedication",
             [
              [
               "#/results/documents/1/entities/5",
               "Medication"
              ],
              [
               "#/results/documents/1/entities/7",
               "Frequency"
              ]
             ]
            ]
           ],
           [],
           null
          ],
          null,
          "2023-04-01"
         ]
        ],
        [
         2,
         "<PERSON> conveyed a persistent low mood and feelings of guilt related to a recent personal loss. She described disruptions in her sleep pattern and appetite. <PERSON> is not currently taking any medications. We explored grief coping strategies and established a plan for ongoing support. Next session: <DATE_TIME>.",
         "2023-11-08T00:00:00Z",
         null,
         [
          null,
          [
           "1",
           [
            [
             20,
             10,
             "persistent",
             "Course",
             0.64
            ],
            [
             31,
             8,
             "low mood",
             "SymptomOrSign",
             0.98
            ],
            [
             44,
             17,
             "feelings of guilt",
             "SymptomOrSign",
             0.71
            ],
            [
             111,
             32,
             "disruptions in her sleep pattern",
             "SymptomOrSign",
             0.99
            ],
            [
             148,
             8,
             "appetite",
             "SymptomOrSign",
             1.0
            ],
            [
             195,
             11,
             "medications",
             "TreatmentName",
             0.97
            ],
            [
             220,
             23,
             "grief coping strategies",
             "TreatmentName",
             0.66
            ]
           ],
           [
            [
             "CourseOfCondition",
             [
              [
               "#/results/documents/1/entities/0",
               "Course"
              ],
              [
               "#/results/documents/1/entities/1",
               "Condition"
              ]
             ]
            ],
            [
             "CourseOfCondition",
             [
              [
               "#/results/documents/1/entities/0",
               "Course"
              ],
              [
               "#/results/documents/1/entities/2",
               "Condition"
              ]
             ]
            ]
           ],
           [],
           null
          ],
          null,
          "2023-04-01"
         ]
        ],
        [
         3,
         "<PERSON> shared concerns about intrusive thoughts and compulsive behaviors indicative of obsessive-compulsive disorder. He is currently prescribed fluvoxamine (100mg <DATE_TIME>). We discussed cognitive-behavioral strategies to manage obsessive thoughts. A follow-up is scheduled for <DATE_TIME>.",
         "2023-11-10T00:00:00Z",
         null,
         [
          null,
          [
           "0",
           [
            [
             31,
             18,
             "intrusive thoughts",
             "SymptomOrSign",
             0.89
            ],
            [
             54,
             20,
             "compulsive behaviors",
             "SymptomOrSign",
             0.82
            ],
            [
             89,
             29,
             "obsessive-compulsive disorder",
             "Diagnosis",
             1.0
            ],
            [
             147,
             11,
             "fluvoxamine",
             "MedicationName",
             1.0
            ],
            [
             160,
             5,
             "100mg",
             "Dosage",
             1.0
            ],
            [
             193,
             31,
             "cognitive-behavioral strategies",
             "TreatmentName",
             0.86
            ],
            [
             235,
             18,
             "obsessive thoughts",
             "Diagnosis",
             0.62
            ],
            [
             257,
             9,
             "follow-up",
             "AdministrativeEvent",
             0.95
            ]
           ],
           [
            [
             "DosageOfMedication",
             [
              [
               "#/results/documents/0/entities/3",
               "Medication"
              ],
              [
               "#/results/documents/0/entities/4",
               "Dosage"
              ]
             ]
            ]
           ],
           [],
           null
          ],
          null,
          "2023-04-01"
         ]
        ],
        [
         4,
         "<PERSON> expressed feelings of overwhelming sadness and loss of interest in activities she once enjoyed. She is prescribed escitalopram (10mg <DATE_TIME>) for depression. We discussed the importance of self-care and scheduled a follow-up for <DATE_TIME>.",
         "2023-11-15T00:00:00Z",
         null,
         [
          null,
          [
           "2",
           [
            [
             31,
             12,
             "overwhelming",
             "ConditionQualifier",
             0.65
            ],
            [
             44,
             7,
             "sadness",
             "SymptomOrSign",
             0.86
            ],
            [
             56,
             4,
             "loss",
             "SymptomOrSign",
             0.72
            ],
            [
             123,
             12,
             "escitalopram",
             "MedicationName",
             1.0
            ],
            [
             137,
             4,
             "10mg",
             "Dosage",
             1.0
            ],
            [
             159,
             10,
             "depression",
             "Diagnosis",
             0.97
            ],
            [
             228,
             9,
             "follow-up",
             "AdministrativeEvent",
             0.92
            ]
           ],
           [
            [
             "QualifierOfCondition",
             [
              [
               "#/results/documents/2/entities/0",
               "Qualifier"
              ],
              [
               "#/results/documents/2/entities/1",
               "Condition"
              ]
             ]
            ],
            [
             "QualifierOfCondition",
             [
              [
               "#/results/documents/2/entities/0",
               "Qualifier"
              ],
              [
               "#/results/documents/2/entities/2",
               "Condition"
              ]
             ]
            ],
            [
             "DosageOfMedication",
             [
              [
               "#/results/documents/2/entities/3",
               "Medication"
              ],
              [
               "#/results/documents/2/entities/4",
               "Dosage"
              ]
             ]
            ]
           ],
           [],
           null
          ],
          null,
          "2023-04-01"
         ]
        ],
        [
         5,
         "<PERSON> described acute anxiety related to social situations, impacting his <DATE_TIME> life. He is currently taking sertraline (50mg <DATE_TIME>). We explored exposure therapy techniques and set goals for gradual desensitization. The next session is scheduled for <DATE_TIME>.",
         "2023-11-18T00:00:00Z",
         null,
         [
          null,
          [
           "1",
           [
            [
             19,
             13,
             "acute anxiety",
             "Diagnosis",
             1.0
            ],
            [
             118,
             10,
             "sertraline",
             "MedicationName",
             1.0
            ],
            [
             130,
             4,
             "50mg",
             "Dosage",
             1.0
            ],
            [
             161,
             27,
             "exposure therapy techniques",
             "TreatmentName",
             0.88
            ],
            [
             207,
             7,
             "gradual",
             "Course",
             0.63
            ],
            [
             215,
             15,
             "desensitization",
             "TreatmentName",
             0.99
            ]
           ],
           [
            [
             "DosageOfMedication",
             [
              [
               "#/results/documents/1/entities/1",
               "Medication"
              ],
              [
               "#/results/documents/1/entities/2",
               "Dosage"
              ]
             ]
            ],
            [
             "CourseOfTreatment",
             [
              [
               "#/results/documents/1/entities/4",
               "Course"
              ],
              [
               "#/results/documents/1/entities/5",
               "Treatment"
              ]
             ]
            ]
           ],
           [],
           null
          ],
          null,
          "2023-04-01"
         ]
        ],
        [
         6,
         "<PERSON> reported heightened stress levels due to academic pressures and challenges with time management. She is not currently on medication. We discussed stress reduction techniques and established strategies for improved work-life balance. Follow-up session: <DATE_TIME>.",
         "2023-11-22T00:00:00Z",
         null,
         [
          null,
          [
           "1",
           [
            [
             29,
             6,
             "stress",
             "SymptomOrSign",
             1.0
            ],
            [
             130,
             10,
             "medication",
             "TreatmentName",
             0.96
            ],
            [
             155,
             27,
             "stress reduction techniques",
             "TreatmentName",
             0.9
            ],
            [
             214,
             8,
             "improved",
             "Course",
             0.9
            ],
            [
             242,
             17,
             "Follow-up session",
             "AdministrativeEvent",
             0.88
            ]
           ],
           [],
           [],
           null
          ],
          null,
          "2023-04-01"
         ]
        ],
        [
         7,
         "<PERSON> expressed symptoms of attention deficit hyperactivity disorder (ADHD), including difficulty sustaining attention and impulsivity. He is prescribed methylphenidate (20mg <DATE_TIME>). We discussed behavioral strategies to manage ADHD symptoms. Next session: <DATE_TIME>.",
         "2023-11-25T00:00:00Z",
         null,
         [
          null,
          [
           "0",
           [
            [
             19,
             8,
             "symptoms",
             "SymptomOrSign",
             0.73
            ],
            [
             31,
             40,
             "attention deficit hyperactivity disorder",
             "Diagnosis",
             1.0
            ],
            [
             73,
             4,
             "ADHD",
             "Diagnosis",
             1.0
            ],
            [
             90,
             31,
             "difficulty sustaining attention",
             "SymptomOrSign",
             0.98
            ],
            [
             126,
             11,
             "impulsivity",
             "SymptomOrSign",
             0.98
            ],
            [
             156,
             15,
             "methylphenidate",
             "MedicationName",
             1.0
            ],
            [
             173,
             4,
             "20mg",
             "Dosage",
             1.0
            ],
            [
             205,
             21,
             "behavioral strategies",
             "TreatmentName",
             0.68
            ],
            [
             237,
             4,
             "ADHD",
             "Diagnosis",
             1.0
            ],
            [
             242,
             8,
             "symptoms",
             "SymptomOrSign",
             0.73
            ]
           ],
           [
            [
             "Abbreviation",
             [
              [
               "#/results/documents/0/entities/1",
               "FullTerm"
              ],
              [
               "#/results/documents/0/entities/2",
               "AbbreviatedTerm"
              ]
             ]
            ],
            [
             "Abbreviation",
             [
              [
               "#/results/documents/0/entities/1",
               "FullTerm"
              ],
              [
               "#/results/documents/0/entities/8",
               "AbbreviatedTerm"
              ]
             ]
            ],
            [
             "DosageOfMedication",
             [
              [
               "#/results/documents/0/entities/5",
               "Medication"
              ],
              [
               "#/results/documents/0/entities/6",
               "Dosage"
              ]
             ]
            ]
           ],
           [],
           null
          ],
          null,
          "2023-04-01"
         ]
        ],
        [
         8,
         "<PERSON> shared concerns about recurrent panic attacks, particularly in crowded spaces. She is prescribed clonazepam (0.5mg as needed). We discussed breathing exercises and exposure therapy. Follow-up scheduled for <DATE_TIME>, <DATE_TIME>",
         "2023-11-29T00:00:00Z",
         null,
         [
          null,
          [
           "0",
           [
            [
             31,
             9,
             "recurrent",
             "Course",
             0.97
            ],
            [
             41,
             13,
             "panic attacks",
             "Diagnosis",
             1.0
            ],
            [
             106,
             10,
             "clonazepam",
             "MedicationName",
             1.0
            ],
            [
             118,
             5,
             "0.5mg",
             "Dosage",
             1.0
            ],
            [
             124,
             9,
             "as needed",
             "Frequency",
             0.97
            ],
            [
             149,
             19,
             "breathing exercises",
             "TreatmentName",
             0.99
            ],
            [
             173,
             16,
             "exposure therapy",
             "TreatmentName",
             1.0
            ],
            [
             191,
             9,
             "Follow-up",
             "AdministrativeEvent",
             0.94
            ]
           ],
           [
            [
             "CourseOfCondition",
             [
              [
               "#/results/documents/0/entities/0",
               "Course"
              ],
              [
               "#/results/documents/0/entities/1",
               "Condition"
              ]
             ]
            ],
            [
             "DosageOfMedication",
             [
              [
               "#/results/documents/0/entities/2",
               "Medication"
              ],
              [
               "#/results/documents/0/entities/3",
               "Dosage"
              ]
             ]
            ],
            [
             "FrequencyOfMedication",
             [
              [
               "#/results/documents/0/entities/2",
               "Medication"
              ],
              [
               "#/results/documents/0/entities/4",
               "Frequency"
              ]
             ]
            ]
           ],
           [],
           null
          ],
          null,
          "2023-04-01"
         ]
        ],
        [
         9,
         "<PERSON> reported persistent feelings of emptiness and identity disturbance. He is prescribed aripiprazole (5mg <DATE_TIME>). We discussed the importance of mood tracking and established goals for emotional regulation. Next session: <DATE_TIME>.",
         "2023-12-02T00:00:00Z",
         null,
         [
          null,
          [
           "2",
           [
            [
             18,
             10,
             "persistent",
             "Course",
             0.84
            ],
            [
             41,
             9,
             "emptiness",
             "SymptomOrSign",
             0.9
            ],
            [
             55,
             20,
             "identity disturbance",
             "SymptomOrSign",
             0.9
            ],
            [
             94,
             12,
             "aripiprazole",
             "MedicationName",
             1.0
            ],
            [
             108,
             3,
             "5mg",
             "Dosage",
             1.0
            ]
           ],
           [
            [
             "CourseOfCondition",
             [
              [
               "#/results/documents/2/entities/0",
               "Course"
              ],
              [
               "#/results/documents/2/entities/1",
               "Condition"
              ]
             ]
            ],
            [
             "CourseOfCondition",
             [
              [
               "#/results/documents/2/entities/0",
               "Course"
              ],
              [
               "#/results/documents/2/entities/2",
               "Condition"
              ]
             ]
            ],
            [
             "DosageOfMedication",
             [
              [
               "#/results/documents/2/entities/3",
               "Medication"
              ],
              [
               "#/results/documents/2/entities/4",
               "Dosage"
              ]
             ]
            ]
           ],
           [],
           null
          ],
          null,
          "2023-04-01"
         ]
        ],
        [
         10,
         "<PERSON> discussed challenges with impulse control and emotional dysregulation. She is currently prescribed lamotrigine (50mg <DATE_TIME>). We explored dialectical behavior therapy (DBT) skills to enhance emotion regulation. Follow-up scheduled for <DATE_TIME>.",
         "2023-12-05T00:00:00Z",
         null,
         [
          null,
          [
           "0",
           [
            [
             108,
             11,
             "lamotrigine",
             "MedicationName",
             1.0
            ],
            [
             121,
             4,
             "50mg",
             "Dosage",
             1.0
            ],
            [
             152,
             28,
             "dialectical behavior therapy",
             "TreatmentName",
             0.97
            ],
            [
             182,
             3,
             "DBT",
             "TreatmentName",
             0.97
            ],
            [
             205,
             18,
             "emotion regulation",
             "TreatmentName",
             0.72
            ],
            [
             225,
             9,
             "Follow-up",
             "AdministrativeEvent",
             0.94
            ]
           ],
           [
            [
             "DosageOfMedication",
             [
              [
               "#/results/documents/0/entities/0",
               "Medication"
              ],
              [
               "#/results/documents/0/entities/1",
               "Dosage"
              ]
             ]
            ],
            [
             "Abbreviation",
             [
              [
               "#/results/documents/0/entities/2",
               "FullTerm"
              ],
              [
               "#/results/documents/0/entities/3",
               "AbbreviatedTerm"
              ]
             ]
            ]
           ],
           [],
           null
          ],
          null,
          "2023-04-01"
         ]
        ],
        [
         11,
         "<PERSON> described symptoms of insomnia and racing thoughts, suggesting generalized anxiety. She is currently not taking any medication. We explored sleep hygiene practices and relaxation techniques. A follow-up appointment is scheduled for <DATE_TIME>.",
         "2023-12-15T00:00:00Z",
         null,
         [
          null,
          [
           "0",
           [
            [
             31,
             8,
             "insomnia",
             "SymptomOrSign",
             0.94
            ],
            [
             44,
             15,
             "racing thoughts",
             "SymptomOrSign",
             1.0
            ],
            [
             72,
             19,
             "generalized anxiety",
             "Diagnosis",
             0.71
            ],
            [
             125,
             10,
             "medication",
             "TreatmentName",
             0.98
            ],
            [
             149,
             23,
             "sleep hygiene practices",
             "TreatmentName",
             0.79
            ],
            [
             177,
             21,
             "relaxation techniques",
             "TreatmentName",
             0.95
            ],
            [
             202,
             21,
             "follow-up appointment",
             "AdministrativeEvent",
             0.98
            ]
           ],
           [],
           [],
           null
          ],
          null,
          "2023-04-01"
         ]
        ]
       ],
       "datasetInfos": [],
       "dbfsResultPath": null,
       "isJsonSchema": true,
       "metadata": {
        "dataframeName": "_sqldf",
        "executionCount": 2
       },
       "overflow": false,
       "plotOptions": {
        "customPlotOptions": {},
        "displayType": "table",
        "pivotAggregation": null,
        "pivotColumns": null,
        "xColumns": null,
        "yColumns": null
       },
       "removedWidgets": [],
       "schema": [
        {
         "metadata": "{}",
         "name": "NoteID",
         "type": "\"long\""
        },
        {
         "metadata": "{}",
         "name": "NoteText",
         "type": "\"string\""
        },
        {
         "metadata": "{}",
         "name": "AppointmentDate",
         "type": "\"timestamp\""
        },
        {
         "metadata": "{}",
         "name": "AnalyzeHealthText_bcca9d806010_error",
         "type": "{\"type\":\"struct\",\"fields\":[{\"name\":\"response\",\"type\":\"string\",\"nullable\":true,\"metadata\":{}},{\"name\":\"status\",\"type\":{\"type\":\"struct\",\"fields\":[{\"name\":\"protocolVersion\",\"type\":{\"type\":\"struct\",\"fields\":[{\"name\":\"protocol\",\"type\":\"string\",\"nullable\":true,\"metadata\":{}},{\"name\":\"major\",\"type\":\"integer\",\"nullable\":true,\"metadata\":{}},{\"name\":\"minor\",\"type\":\"integer\",\"nullable\":true,\"metadata\":{}}]},\"nullable\":true,\"metadata\":{}},{\"name\":\"statusCode\",\"type\":\"integer\",\"nullable\":true,\"metadata\":{}},{\"name\":\"reasonPhrase\",\"type\":\"string\",\"nullable\":true,\"metadata\":{}}]},\"nullable\":true,\"metadata\":{}}]}"
        },
        {
         "metadata": "{}",
         "name": "NoteText_extracted",
         "type": "{\"type\":\"struct\",\"fields\":[{\"name\":\"statistics\",\"type\":{\"type\":\"struct\",\"fields\":[{\"name\":\"documentsCount\",\"type\":\"integer\",\"nullable\":true,\"metadata\":{}},{\"name\":\"validDocumentsCount\",\"type\":\"integer\",\"nullable\":true,\"metadata\":{}},{\"name\":\"erroneousDocumentsCount\",\"type\":\"integer\",\"nullable\":true,\"metadata\":{}},{\"name\":\"transactionsCount\",\"type\":\"integer\",\"nullable\":true,\"metadata\":{}}]},\"nullable\":true,\"metadata\":{}},{\"name\":\"document\",\"type\":{\"type\":\"struct\",\"fields\":[{\"name\":\"id\",\"type\":\"string\",\"nullable\":true,\"metadata\":{}},{\"name\":\"entities\",\"type\":{\"type\":\"array\",\"elementType\":{\"type\":\"struct\",\"fields\":[{\"name\":\"offset\",\"type\":\"integer\",\"nullable\":true,\"metadata\":{}},{\"name\":\"length\",\"type\":\"integer\",\"nullable\":true,\"metadata\":{}},{\"name\":\"text\",\"type\":\"string\",\"nullable\":true,\"metadata\":{}},{\"name\":\"category\",\"type\":\"string\",\"nullable\":true,\"metadata\":{}},{\"name\":\"confidenceScore\",\"type\":\"double\",\"nullable\":true,\"metadata\":{}}]},\"containsNull\":true},\"nullable\":true,\"metadata\":{}},{\"name\":\"relations\",\"type\":{\"type\":\"array\",\"elementType\":{\"type\":\"struct\",\"fields\":[{\"name\":\"relationType\",\"type\":\"string\",\"nullable\":true,\"metadata\":{}},{\"name\":\"entities\",\"type\":{\"type\":\"array\",\"elementType\":{\"type\":\"struct\",\"fields\":[{\"name\":\"ref\",\"type\":\"string\",\"nullable\":true,\"metadata\":{}},{\"name\":\"role\",\"type\":\"string\",\"nullable\":true,\"metadata\":{}}]},\"containsNull\":true},\"nullable\":true,\"metadata\":{}}]},\"containsNull\":true},\"nullable\":true,\"metadata\":{}},{\"name\":\"warnings\",\"type\":{\"type\":\"array\",\"elementType\":{\"type\":\"struct\",\"fields\":[{\"name\":\"code\",\"type\":\"string\",\"nullable\":true,\"metadata\":{}},{\"name\":\"message\",\"type\":\"string\",\"nullable\":true,\"metadata\":{}},{\"name\":\"targetRef\",\"type\":\"string\",\"nullable\":true,\"metadata\":{}}]},\"containsNull\":true},\"nullable\":true,\"metadata\":{}},{\"name\":\"statistics\",\"type\":{\"type\":\"struct\",\"fields\":[{\"name\":\"charactersCount\",\"type\":\"integer\",\"nullable\":true,\"metadata\":{}},{\"name\":\"transactionsCount\",\"type\":\"integer\",\"nullable\":true,\"metadata\":{}}]},\"nullable\":true,\"metadata\":{}}]},\"nullable\":true,\"metadata\":{}},{\"name\":\"error\",\"type\":{\"type\":\"struct\",\"fields\":[{\"name\":\"id\",\"type\":\"string\",\"nullable\":true,\"metadata\":{}},{\"name\":\"error\",\"type\":\"string\",\"nullable\":true,\"metadata\":{}}]},\"nullable\":true,\"metadata\":{}},{\"name\":\"modelVersion\",\"type\":\"string\",\"nullable\":true,\"metadata\":{}}]}"
        }
       ],
       "type": "table"
      }
     },
     "output_type": "display_data"
    }
   ],
   "source": [
    "%sql\n",
    "SELECT * from catalog.schema.Notes order by NoteID asc;"
   ]
  },
  {
   "cell_type": "code",
   "execution_count": 0,
   "metadata": {
    "application/vnd.databricks.v1+cell": {
     "cellMetadata": {},
     "inputWidgets": {},
     "nuid": "39de60c2-d291-4171-b095-9e851b6a8d90",
     "showTitle": false,
     "title": ""
    }
   },
   "outputs": [],
   "source": []
  }
 ],
 "metadata": {
  "application/vnd.databricks.v1+notebook": {
   "dashboards": [],
   "language": "python",
   "notebookMetadata": {
    "mostRecentlyExecutedCommandWithImplicitDF": {
     "commandId": 880464484238520,
     "dataframes": [
      "_sqldf"
     ]
    },
    "pythonIndentUnit": 4
   },
   "notebookName": "Ingest Dummy Data",
   "widgets": {}
  }
 },
 "nbformat": 4,
 "nbformat_minor": 0
}

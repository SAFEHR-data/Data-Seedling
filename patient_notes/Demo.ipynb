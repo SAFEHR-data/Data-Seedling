{
 "cells": [
  {
   "cell_type": "markdown",
   "metadata": {
    "application/vnd.databricks.v1+cell": {
     "cellMetadata": {},
     "inputWidgets": {},
     "nuid": "3ac46ce9-6257-4f93-9893-4743a5e54923",
     "showTitle": false,
     "title": ""
    }
   },
   "source": [
    "# Ingest dummy data\n",
    "\n",
    "In this notebook, we will show how to create test data in Bronze layer of the data lake, and how to update it with new rows."
   ]
  },
  {
   "cell_type": "code",
   "execution_count": null,
   "metadata": {
    "application/vnd.databricks.v1+cell": {
     "cellMetadata": {
      "byteLimit": 2048000,
      "rowLimit": 10000
     },
     "inputWidgets": {},
     "nuid": "1c34344c-9380-4434-8940-34aebffb22fb",
     "showTitle": false,
     "title": ""
    }
   },
   "outputs": [],
   "source": [
    "from delta import DeltaTable\n",
    "table_name = \"Notes\""
   ]
  },
  {
   "cell_type": "markdown",
   "metadata": {
    "application/vnd.databricks.v1+cell": {
     "cellMetadata": {
      "byteLimit": 2048000,
      "rowLimit": 10000
     },
     "inputWidgets": {},
     "nuid": "f71a4f1a-08c8-4562-aad4-49b9c7cb98e2",
     "showTitle": false,
     "title": ""
    }
   },
   "source": [
    "## Creation of the initial table"
   ]
  },
  {
   "cell_type": "markdown",
   "metadata": {
    "application/vnd.databricks.v1+cell": {
     "cellMetadata": {},
     "inputWidgets": {},
     "nuid": "d82f8a0f-94e1-4f4c-9051-88a7a9dd9ab8",
     "showTitle": false,
     "title": ""
    }
   },
   "source": [
    "First, create a table and insert 10 rows into it. \n",
    "\n",
    "In this example, there are 4 columns in the table: NoteID, NoteText, UserID, AppointmentDate.\n",
    "- NoteID is a primary key in this column and a column that will be used to determine change in the table.\n",
    "- NoteText stores patient notes (in this example they are of course synthetic). Notes can be large. In the pipeline, the text in the notes will be pseudonymised, and additional features of interest will be extracted.\n",
    "- UserID is an identifier of a patient that will need to be pseudonymised in the pipeline.\n",
    "- AppointmentDate is information about patients appointment and will also need to be pseudonymised to avoid being able to link the data back to the patient."
   ]
  },
  {
   "cell_type": "code",
   "execution_count": null,
   "metadata": {
    "application/vnd.databricks.v1+cell": {
     "cellMetadata": {
      "byteLimit": 2048000,
      "rowLimit": 10000
     },
     "inputWidgets": {},
     "nuid": "610cf156-23fa-4506-8da1-9753f047b15e",
     "showTitle": false,
     "title": ""
    }
   },
   "outputs": [],
   "source": [
    "df = spark.createDataFrame(\n",
    "    [\n",
    "        (\n",
    "            1,\n",
    "            (\n",
    "                \"Jonathan appeared agitated during today's session, reporting heightened\"\n",
    "                \" irritability and difficulty focusing at work. He shared concerns about\"\n",
    "                \" persistent insomnia and a sense of impending doom. Jonathan is currently\"\n",
    "                \" prescribed lorazepam (1mg as needed) for anxiety management, and we\"\n",
    "                \" discussed incorporating relaxation techniques into his daily routine. A\"\n",
    "                \" follow-up session is scheduled for November 19, 2023.\"\n",
    "            ),\n",
    "            483215,\n",
    "            \"2023-11-05\",\n",
    "        ),\n",
    "        (\n",
    "            2,\n",
    "            (\n",
    "                \"Olivia conveyed a persistent low mood and feelings of guilt related to a\"\n",
    "                \" recent personal loss. She described disruptions in her sleep pattern and\"\n",
    "                \" appetite. Olivia is not currently taking any medications. We explored grief\"\n",
    "                \" coping strategies and established a plan for ongoing support. Next session:\"\n",
    "                \" November 22, 2023.\"\n",
    "            ),\n",
    "            176824,\n",
    "            \"2023-11-08\",\n",
    "        ),\n",
    "        (\n",
    "            3,\n",
    "            (\n",
    "                \"Michael shared concerns about intrusive thoughts and compulsive behaviors\"\n",
    "                \" indicative of obsessive-compulsive disorder. He is currently prescribed\"\n",
    "                \" fluvoxamine (100mg daily). We discussed cognitive-behavioral strategies to\"\n",
    "                \" manage obsessive thoughts. A follow-up is scheduled for November 24, 2023.\"\n",
    "            ),\n",
    "            742309,\n",
    "            \"2023-11-10\",\n",
    "        ),\n",
    "        (\n",
    "            4,\n",
    "            (\n",
    "                \"Jasmine expressed feelings of overwhelming sadness and loss of interest in\"\n",
    "                \" activities she once enjoyed. She is prescribed escitalopram (10mg daily) for\"\n",
    "                \" depression. We discussed the importance of self-care and scheduled a\"\n",
    "                \" follow-up for November 29, 2023.\"\n",
    "            ),\n",
    "            589124,\n",
    "            \"2023-11-15\",\n",
    "        ),\n",
    "        (\n",
    "            5,\n",
    "            (\n",
    "                \"Lucas described acute anxiety related to social situations, impacting his\"\n",
    "                \" daily life. He is currently taking sertraline (50mg daily). We explored\"\n",
    "                \" exposure therapy techniques and set goals for gradual desensitization. The\"\n",
    "                \" next session is scheduled for December 2, 2023.\"\n",
    "            ),\n",
    "            317468,\n",
    "            \"2023-11-18\",\n",
    "        ),\n",
    "        (\n",
    "            6,\n",
    "            (\n",
    "                \"Zoe reported heightened stress levels due to academic pressures and\"\n",
    "                \" challenges with time management. She is not currently on medication. We\"\n",
    "                \" discussed stress reduction techniques and established strategies for\"\n",
    "                \" improved work-life balance. Follow-up session: December 6, 2023.\"\n",
    "            ),\n",
    "            864502,\n",
    "            \"2023-11-22\",\n",
    "        ),\n",
    "        (\n",
    "            7,\n",
    "            (\n",
    "                \"Ryan expressed symptoms of attention deficit hyperactivity disorder (ADHD),\"\n",
    "                \" including difficulty sustaining attention and impulsivity. He is prescribed\"\n",
    "                \" methylphenidate (20mg daily). We discussed behavioral strategies to manage\"\n",
    "                \" ADHD symptoms. Next session: December 9, 2023.\"\n",
    "            ),\n",
    "            125739,\n",
    "            \"2023-11-25\",\n",
    "        ),\n",
    "        (\n",
    "            8,\n",
    "            (\n",
    "                \"Ava shared concerns about recurrent panic attacks, particularly in crowded\"\n",
    "                \" spaces. She is prescribed clonazepam (0.5mg as needed). We discussed\"\n",
    "                \" breathing exercises and exposure therapy. Follow-up scheduled for December\"\n",
    "                \" 13, 2023\"\n",
    "            ),\n",
    "            650821,\n",
    "            \"2023-11-29\",\n",
    "        ),\n",
    "        (\n",
    "            9,\n",
    "            (\n",
    "                \"Elijah reported persistent feelings of emptiness and identity disturbance. He\"\n",
    "                \" is prescribed aripiprazole (5mg daily). We discussed the importance of mood\"\n",
    "                \" tracking and established goals for emotional regulation. Next session:\"\n",
    "                \" December 16, 2023.\"\n",
    "            ),\n",
    "            294617,\n",
    "            \"2023-12-02\",\n",
    "        ),\n",
    "        (\n",
    "            10,\n",
    "            (\n",
    "                \"Sophia discussed challenges with impulse control and emotional dysregulation.\"\n",
    "                \" She is currently prescribed lamotrigine (50mg daily). We explored\"\n",
    "                \" dialectical behavior therapy (DBT) skills to enhance emotion regulation.\"\n",
    "                \" Follow-up scheduled for December 19, 2023.\"\n",
    "            ),\n",
    "            817403,\n",
    "            \"2023-12-05\",\n",
    "        ),\n",
    "    ],\n",
    "    [\"NoteID\", \"NoteText\", \"UserID\", \"AppointmentDate\"],\n",
    ")"
   ]
  },
  {
   "cell_type": "code",
   "execution_count": null,
   "metadata": {
    "application/vnd.databricks.v1+cell": {
     "cellMetadata": {
      "byteLimit": 2048000,
      "rowLimit": 10000
     },
     "inputWidgets": {},
     "nuid": "04326a55-9b08-45fb-b8e7-2d120bc29812",
     "showTitle": false,
     "title": ""
    }
   },
   "outputs": [],
   "source": [
    "df.write.format(\"delta\").mode(\"overwrite\").save(f\"abfss://bronze@{spark.conf.get('spark.secret.datalake-uri')}/{table_name}\")"
   ]
  },
  {
   "cell_type": "markdown",
   "metadata": {
    "application/vnd.databricks.v1+cell": {
     "cellMetadata": {},
     "inputWidgets": {},
     "nuid": "a3308958-06eb-46db-995c-0d222667e40c",
     "showTitle": false,
     "title": ""
    }
   },
   "source": [
    "Reading back the table that's been created and checking it looks as expected"
   ]
  },
  {
   "cell_type": "code",
   "execution_count": null,
   "metadata": {
    "application/vnd.databricks.v1+cell": {
     "cellMetadata": {
      "byteLimit": 2048000,
      "rowLimit": 10000
     },
     "inputWidgets": {},
     "nuid": "75697b47-0cfc-4151-a7e7-5fb5850764a9",
     "showTitle": false,
     "title": ""
    }
   },
   "outputs": [],
   "source": [
    "def read_table(table_name: str, layer: str):\n",
    "    datalake_uri = spark.conf.get('spark.secret.datalake-uri')\n",
    "    path = f\"abfss://{layer}@{datalake_uri}/{table_name}\"\n",
    "    return spark.read.format(\"delta\").load(path)"
   ]
  },
  {
   "cell_type": "code",
   "execution_count": null,
   "metadata": {
    "application/vnd.databricks.v1+cell": {
     "cellMetadata": {
      "byteLimit": 2048000,
      "rowLimit": 10000
     },
     "inputWidgets": {},
     "nuid": "a4ee4887-7e2e-4c18-9f92-7ba02b6c78ce",
     "showTitle": false,
     "title": ""
    }
   },
   "outputs": [],
   "source": [
    "df = read_table(table_name, \"bronze\")\n",
    "display(df)"
   ]
  },
  {
   "cell_type": "markdown",
   "metadata": {
    "application/vnd.databricks.v1+cell": {
     "cellMetadata": {},
     "inputWidgets": {},
     "nuid": "f8b9b0c1-bc01-4b30-bb48-22ffa2ee9acf",
     "showTitle": false,
     "title": ""
    }
   },
   "source": [
    "## Checking the result of the pipeline\n",
    "\n",
    "After running the previous cells, head to ADF instance of your resource group (it will have a name like `adf-${flowehr_id}-dev)` and trigger the PatientsPipeline (click on `Add Trigger` - `Trigger Now`)."
   ]
  },
  {
   "cell_type": "markdown",
   "metadata": {
    "application/vnd.databricks.v1+cell": {
     "cellMetadata": {
      "byteLimit": 2048000,
      "rowLimit": 10000
     },
     "inputWidgets": {},
     "nuid": "f0af8737-4ca1-40b3-91f8-c701df53545c",
     "showTitle": false,
     "title": ""
    }
   },
   "source": [
    "After it runs successfully, run the code below to check the result in the Gold layer of the Data Lake."
   ]
  },
  {
   "cell_type": "code",
   "execution_count": null,
   "metadata": {
    "application/vnd.databricks.v1+cell": {
     "cellMetadata": {
      "byteLimit": 2048000,
      "rowLimit": 10000
     },
     "inputWidgets": {},
     "nuid": "298230c6-63c7-4c38-b5d2-5095ee8a9a35",
     "showTitle": false,
     "title": ""
    }
   },
   "outputs": [],
   "source": [
    "df = read_table(table_name, \"silver\")\n",
    "display(df)"
   ]
  },
  {
   "cell_type": "code",
   "execution_count": null,
   "metadata": {
    "application/vnd.databricks.v1+cell": {
     "cellMetadata": {
      "byteLimit": 2048000,
      "rowLimit": 10000
     },
     "inputWidgets": {},
     "nuid": "17902b0c-46b3-4f4d-b063-6b83b80c9d1b",
     "showTitle": false,
     "title": ""
    }
   },
   "outputs": [],
   "source": [
    "df = read_table(table_name, \"gold\")\n",
    "display(df)"
   ]
  },
  {
   "cell_type": "markdown",
   "metadata": {
    "application/vnd.databricks.v1+cell": {
     "cellMetadata": {},
     "inputWidgets": {},
     "nuid": "33911802-9a4a-4a63-8c30-7e3b4007e97c",
     "showTitle": false,
     "title": ""
    }
   },
   "source": [
    "You can also check table history, like done below"
   ]
  },
  {
   "cell_type": "code",
   "execution_count": null,
   "metadata": {
    "application/vnd.databricks.v1+cell": {
     "cellMetadata": {
      "byteLimit": 2048000,
      "rowLimit": 10000
     },
     "inputWidgets": {},
     "nuid": "9fd7331e-e832-4c4c-b742-f6ee1ba5c1ed",
     "showTitle": false,
     "title": ""
    }
   },
   "outputs": [],
   "source": [
    "layer = \"silver\"  # Replace with \"silver\" or \"bronze\" to check other layers\n",
    "\n",
    "path = f\"abfss://{layer}@{spark.conf.get('spark.secret.datalake-uri')}/{table_name}\"\n",
    "display(DeltaTable.forPath(spark, path).history())"
   ]
  },
  {
   "cell_type": "markdown",
   "metadata": {
    "application/vnd.databricks.v1+cell": {
     "cellMetadata": {},
     "inputWidgets": {},
     "nuid": "70b61e35-149d-41e4-9898-d0352940d1d0",
     "showTitle": false,
     "title": ""
    }
   },
   "source": [
    "## Inserting an update into the table\n",
    "\n",
    "Now let's insert a new row to the table, and delete an existing one.\n",
    "\n",
    "Note that in this pipeline, the updates are not being processed. (If you try to update a row, the pipeline will fail.)\n",
    "\n",
    "This is because for large volumes of text, it is going to be expensive to determine which rows have updated, if the updated rows have the same primary keys as the rows already existing in the table.\n",
    "\n",
    "Thus, we are assuming that each table update is either inserting a new Primary key, or removing a primary key."
   ]
  },
  {
   "cell_type": "code",
   "execution_count": null,
   "metadata": {
    "application/vnd.databricks.v1+cell": {
     "cellMetadata": {
      "byteLimit": 2048000,
      "rowLimit": 10000
     },
     "inputWidgets": {},
     "nuid": "4dc0b203-1df6-4785-8ec6-facf5fc5be5e",
     "showTitle": false,
     "title": ""
    }
   },
   "outputs": [],
   "source": [
    "\n",
    "\n",
    "update_df = spark.createDataFrame(\n",
    "    [\n",
    "        (\n",
    "            11,\n",
    "            (\n",
    "                \"Mia described symptoms of insomnia and racing thoughts, suggesting generalized anxiety. She is currently not taking any medication. We explored sleep hygiene practices and relaxation techniques. A follow-up appointment is scheduled for December 29, 2023.\"\n",
    "            ),\n",
    "            548290,\n",
    "            \"2023-12-15\"\n",
    "        )\n",
    "    ],\n",
    "    [\"NoteID\", \"NoteText\", \"UserID\", \"AppointmentDate\"]\n",
    ")\n",
    "\n",
    "display(update_df)"
   ]
  },
  {
   "cell_type": "code",
   "execution_count": null,
   "metadata": {
    "application/vnd.databricks.v1+cell": {
     "cellMetadata": {
      "byteLimit": 2048000,
      "rowLimit": 10000
     },
     "inputWidgets": {},
     "nuid": "334acfa4-dd96-4142-8ba5-c39c20d46b26",
     "showTitle": false,
     "title": ""
    }
   },
   "outputs": [],
   "source": [
    "path = f\"abfss://bronze@{spark.conf.get('spark.secret.datalake-uri')}/{table_name}\"\n",
    "delta_table = DeltaTable.forPath(spark, path)\n",
    "delta_table.alias(\"target\").merge(\n",
    "    source=update_df.alias(\"source\"),\n",
    "    condition=\"source.NoteID = target.NoteID\"\n",
    ").whenNotMatchedInsertAll().execute()"
   ]
  },
  {
   "cell_type": "markdown",
   "metadata": {
    "application/vnd.databricks.v1+cell": {
     "cellMetadata": {},
     "inputWidgets": {},
     "nuid": "cbff5b4a-f2a5-4da5-ba28-a28a592b8027",
     "showTitle": false,
     "title": ""
    }
   },
   "source": [
    "Now you can re-trigger the pipeline again.\n",
    "After you've done that, you can check in the logs how many rows have been processed in Silver and Gold pipeline."
   ]
  },
  {
   "cell_type": "markdown",
   "metadata": {
    "application/vnd.databricks.v1+cell": {
     "cellMetadata": {},
     "inputWidgets": {},
     "nuid": "cf7b5f24-63c2-4ac4-ba2e-c734827b79e7",
     "showTitle": false,
     "title": ""
    }
   },
   "source": [
    "## Querying data in the Gold store\n",
    "\n",
    "The final result of the pipeline can be accessed through a Managed table in Unity Catalog.\n",
    "\n",
    "You can query data through SQL statement in a notebook, like so:"
   ]
  },
  {
   "cell_type": "code",
   "execution_count": null,
   "metadata": {
    "application/vnd.databricks.v1+cell": {
     "cellMetadata": {
      "byteLimit": 2048000,
      "implicitDf": true,
      "rowLimit": 10000
     },
     "inputWidgets": {},
     "nuid": "e9e46c78-e078-4139-a86a-26402686e627",
     "showTitle": false,
     "title": ""
    }
   },
   "outputs": [],
   "source": [
    "%sql\n",
    "SELECT * from catalog.schema.Notes order by NoteID asc;"
   ]
  },
  {
   "cell_type": "code",
   "execution_count": null,
   "metadata": {
    "application/vnd.databricks.v1+cell": {
     "cellMetadata": {},
     "inputWidgets": {},
     "nuid": "39de60c2-d291-4171-b095-9e851b6a8d90",
     "showTitle": false,
     "title": ""
    }
   },
   "outputs": [],
   "source": []
  }
 ],
 "metadata": {
  "application/vnd.databricks.v1+notebook": {
   "dashboards": [],
   "language": "python",
   "notebookMetadata": {
    "mostRecentlyExecutedCommandWithImplicitDF": {
     "commandId": 880464484238520,
     "dataframes": [
      "_sqldf"
     ]
    },
    "pythonIndentUnit": 4
   },
   "notebookName": "Ingest Dummy Data",
   "widgets": {}
  }
 },
 "nbformat": 4,
 "nbformat_minor": 0
}
